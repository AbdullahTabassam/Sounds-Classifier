{
 "cells": [
  {
   "attachments": {},
   "cell_type": "markdown",
   "id": "9fc0fbc1",
   "metadata": {},
   "source": [
    "# Sound Classification for behaviour analysis.\n",
    "\n",
    "In this notebook, ten different types of sounds are used to create a classifier capable to classify these sounds. The purpose of creating this model is to help identify anti-social and criminal behaviour from sound clips. In this notebook, we will first do some important EDA on these sounds to know what we are dealing with. After this we will be extracting features from these sound waves and perform some preprecessing techniques to createa dataset that we can use to train our model. We will try to use various models and hyper parameters to obtain the best results.\n"
   ]
  },
  {
   "cell_type": "markdown",
   "id": "c9c65a4e",
   "metadata": {},
   "source": [
    "### Train-Test-Validation Split\n",
    "\n",
    "Afyer the feature extraction and Dimentionalaity reduction using PCA we need to divide the data into three subsets. \n",
    "1. Train set\n",
    "2. Test set\n",
    "3. Validation set\n",
    "\n",
    "**Train set:** The train set will have 81% of data.\n",
    "**Test set:** The test set will have 10% of data.\n",
    "**Validation set:** The validation set will have 9% of data.\n",
    "\n",
    "We divide the original dataset into three subsets as we do not want to test or validate the model performance on the same data it is trained on."
   ]
  },
  {
   "cell_type": "code",
   "execution_count": 8,
   "id": "950249ee",
   "metadata": {},
   "outputs": [],
   "source": [
    "from sklearn.model_selection import train_test_split"
   ]
  },
  {
   "cell_type": "code",
   "execution_count": 9,
   "id": "1ccee6ea",
   "metadata": {},
   "outputs": [],
   "source": [
    "X, X_test, y, y_test = train_test_split(concat_array, label_array, test_size=0.1, random_state=12, stratify=label_array)"
   ]
  },
  {
   "cell_type": "code",
   "execution_count": 10,
   "id": "5eaa8998",
   "metadata": {},
   "outputs": [],
   "source": [
    "X_train, X_val, y_train, y_val = train_test_split(X, y, test_size=0.1, random_state=42, stratify=y)"
   ]
  },
  {
   "cell_type": "code",
   "execution_count": 11,
   "id": "9d88be09",
   "metadata": {},
   "outputs": [
    {
     "name": "stdout",
     "output_type": "stream",
     "text": [
      "(7072, 49) (7072, 10)\n",
      "(786, 49) (786, 10)\n",
      "(874, 49) (874, 10)\n"
     ]
    }
   ],
   "source": [
    "print(X_train.shape, y_train.shape)\n",
    "print(X_val.shape, y_val.shape)\n",
    "print(X_test.shape, y_test.shape)"
   ]
  },
  {
   "cell_type": "code",
   "execution_count": 12,
   "id": "ea821cf9",
   "metadata": {},
   "outputs": [
    {
     "name": "stdout",
     "output_type": "stream",
     "text": [
      "Number 0 appears 810.0 times in the array.\n",
      "Number 1 appears 347.0 times in the array.\n",
      "Number 2 appears 810.0 times in the array.\n",
      "Number 3 appears 810.0 times in the array.\n",
      "Number 4 appears 810.0 times in the array.\n",
      "Number 5 appears 810.0 times in the array.\n",
      "Number 6 appears 303.0 times in the array.\n",
      "Number 7 appears 810.0 times in the array.\n",
      "Number 8 appears 752.0 times in the array.\n",
      "Number 9 appears 810.0 times in the array.\n"
     ]
    }
   ],
   "source": [
    "counts = np.sum(y_train, axis=0)\n",
    "\n",
    "# Print the counts of each number\n",
    "for i in range(len(counts)):\n",
    "    print(f\"Number {i} appears {counts[i]} times in the array.\")"
   ]
  },
  {
   "cell_type": "markdown",
   "id": "98e9ed5b",
   "metadata": {},
   "source": [
    "Although there are two classes that have a little lesser number of instances than the other classes, but they are enough to give decent results. In case the model performs poorly, we can use SMOTE to balance the dataset by adding more instances. "
   ]
  },
  {
   "cell_type": "markdown",
   "id": "b132af71",
   "metadata": {},
   "source": [
    "## Model Training"
   ]
  },
  {
   "cell_type": "markdown",
   "id": "67b0cc45",
   "metadata": {},
   "source": [
    "### ANNs\n",
    "\n",
    "Artificial Neural Networks (ANNs) are a type of machine learning model inspired by biological neurons in the brain. ANNs consist of multiple layers of interconnected artificial neurons that process and transmit information. The input data is fed into the input layer, which passes the information to the hidden layers through weighted connections between neurons. The weights between neurons in the network are learned during the training process by adjusting them to minimize a loss function using backpropagation."
   ]
  },
  {
   "cell_type": "markdown",
   "id": "208b28f1",
   "metadata": {},
   "source": [
    "#### Training with all the features"
   ]
  },
  {
   "cell_type": "code",
   "execution_count": 13,
   "id": "5a75003b",
   "metadata": {},
   "outputs": [],
   "source": [
    "input_shape = X_train.shape[1:]"
   ]
  },
  {
   "cell_type": "code",
   "execution_count": 13,
   "id": "72968b1f",
   "metadata": {},
   "outputs": [],
   "source": [
    "from tensorflow.keras.models import Sequential\n",
    "from tensorflow.keras.layers import Dense,Flatten,Activation,Dropout\n",
    "from tensorflow.keras.optimizers import Adam\n",
    "from sklearn import metrics"
   ]
  },
  {
   "cell_type": "markdown",
   "id": "472554cb",
   "metadata": {},
   "source": [
    "### A basic ANN"
   ]
  },
  {
   "cell_type": "markdown",
   "id": "5f94e82b",
   "metadata": {},
   "source": [
    "The first model that we are going to train on all the features we extracted would be an ANN with increasing number of neurons in subsequent layers. the neurons in the first layer are kept double than the number of inputs. lesser number of neurons in the initial layers will help the model to learn on low level features of the dataset. The complexity is increased gradually so that the model can learn high level features as well. The output layer has 10 neurons, as we have 10 classes."
   ]
  },
  {
   "cell_type": "code",
   "execution_count": 15,
   "id": "66587d6a",
   "metadata": {},
   "outputs": [
    {
     "name": "stdout",
     "output_type": "stream",
     "text": [
      "Model: \"sequential_1\"\n",
      "_________________________________________________________________\n",
      "Layer (type)                 Output Shape              Param #   \n",
      "=================================================================\n",
      "dense_2 (Dense)              (None, 100)               5000      \n",
      "_________________________________________________________________\n",
      "activation_2 (Activation)    (None, 100)               0         \n",
      "_________________________________________________________________\n",
      "dropout_1 (Dropout)          (None, 100)               0         \n",
      "_________________________________________________________________\n",
      "dense_3 (Dense)              (None, 300)               30300     \n",
      "_________________________________________________________________\n",
      "activation_3 (Activation)    (None, 300)               0         \n",
      "_________________________________________________________________\n",
      "dropout_2 (Dropout)          (None, 300)               0         \n",
      "_________________________________________________________________\n",
      "dense_4 (Dense)              (None, 300)               90300     \n",
      "_________________________________________________________________\n",
      "activation_4 (Activation)    (None, 300)               0         \n",
      "_________________________________________________________________\n",
      "dropout_3 (Dropout)          (None, 300)               0         \n",
      "_________________________________________________________________\n",
      "dense_5 (Dense)              (None, 100)               30100     \n",
      "_________________________________________________________________\n",
      "activation_5 (Activation)    (None, 100)               0         \n",
      "_________________________________________________________________\n",
      "dropout_4 (Dropout)          (None, 100)               0         \n",
      "_________________________________________________________________\n",
      "dense_6 (Dense)              (None, 10)                1010      \n",
      "_________________________________________________________________\n",
      "activation_6 (Activation)    (None, 10)                0         \n",
      "=================================================================\n",
      "Total params: 156,710\n",
      "Trainable params: 156,710\n",
      "Non-trainable params: 0\n",
      "_________________________________________________________________\n"
     ]
    }
   ],
   "source": [
    "modelANN = Sequential()\n",
    "\n",
    "# We are adding 20% dropout in each dense layer\n",
    "modelANN.add(Dense(100,input_shape=input_shape))\n",
    "modelANN.add(Activation(\"relu\"))\n",
    "modelANN.add(Dropout(0.2))\n",
    "\n",
    "modelANN.add(Dense(300))\n",
    "modelANN.add(Activation(\"relu\"))\n",
    "modelANN.add(Dropout(0.2))\n",
    "\n",
    "modelANN.add(Dense(300))\n",
    "modelANN.add(Activation(\"relu\"))\n",
    "modelANN.add(Dropout(0.2))\n",
    "\n",
    "modelANN.add(Dense(100))\n",
    "modelANN.add(Activation(\"relu\"))\n",
    "modelANN.add(Dropout(0.2))\n",
    "\n",
    "# The output layer will have 10 neurons as out classifier gives 10bit result         \n",
    "modelANN.add(Dense(10))\n",
    "modelANN.add(Activation(\"softmax\"))\n",
    "\n",
    "# Show summary of the model\n",
    "modelANN.summary()"
   ]
  },
  {
   "cell_type": "markdown",
   "id": "c8bdafa3",
   "metadata": {},
   "source": [
    "To compile the model we will be using a categorical cross entropy loss as it is used when the output is in the categorical form. The optimizer that we use will be adam and the performance metrics will be set to accuracy."
   ]
  },
  {
   "cell_type": "code",
   "execution_count": 16,
   "id": "6faf42f3",
   "metadata": {},
   "outputs": [],
   "source": [
    "modelANN.compile(loss='categorical_crossentropy', optimizer='adam', metrics=['accuracy'])"
   ]
  },
  {
   "cell_type": "markdown",
   "id": "81523218",
   "metadata": {},
   "source": [
    "For this model we will be using the following hyper parameters\n",
    "1. epochs:  This parameter will specify for how many iterations the training process will run.During each epoch, the model processes the entire training dataset, updates the model's weights, and evaluates the model's performance on the training data.\n",
    "2. batch size: This parameter specifies the number of samples that the neural network processes before updating the model's weights during training.\n",
    "3. monitor: This parameter specifies which metric to monitor during training. In this case, the validation loss is being monitored, so the value of monitor is set to 'val_loss'.\n",
    "4. mode: This parameter specifies whether to minimize or maximize the monitored metric. In this case, we want to minimize the validation loss, so the value of mode is set to 'min'.\n",
    "5. verbose: This parameter controls the verbosity of the output during training. A value of 1 means that progress messages will be displayed on the console.\n",
    "6. patience: This parameter specifies how many epochs to wait before stopping the training process if the monitored metric does not improve. In this case, the training will stop if the validation loss does not improve after 25 epochs."
   ]
  },
  {
   "cell_type": "code",
   "execution_count": 17,
   "id": "8bd7c902",
   "metadata": {},
   "outputs": [],
   "source": [
    "epochs = 100\n",
    "batch_size = 32\n",
    "early_stop = EarlyStopping(monitor='val_loss', mode='min', verbose=1, patience=30)"
   ]
  },
  {
   "cell_type": "code",
   "execution_count": 18,
   "id": "915651b2",
   "metadata": {},
   "outputs": [
    {
     "name": "stdout",
     "output_type": "stream",
     "text": [
      "Epoch 1/100\n"
     ]
    },
    {
     "name": "stderr",
     "output_type": "stream",
     "text": [
      "2023-04-07 20:31:31.372605: I tensorflow/stream_executor/platform/default/dso_loader.cc:44] Successfully opened dynamic library libcublas.so.10\n"
     ]
    },
    {
     "name": "stdout",
     "output_type": "stream",
     "text": [
      "221/221 [==============================] - 0s 2ms/step - loss: 3.3175 - accuracy: 0.1516 - val_loss: 2.2132 - val_accuracy: 0.1947\n",
      "Epoch 2/100\n",
      "221/221 [==============================] - 0s 2ms/step - loss: 2.1189 - accuracy: 0.2407 - val_loss: 1.8499 - val_accuracy: 0.4109\n",
      "Epoch 3/100\n",
      "221/221 [==============================] - 0s 1ms/step - loss: 1.9049 - accuracy: 0.3258 - val_loss: 1.6265 - val_accuracy: 0.4644\n",
      "Epoch 4/100\n",
      "221/221 [==============================] - 0s 2ms/step - loss: 1.7574 - accuracy: 0.3791 - val_loss: 1.4591 - val_accuracy: 0.4936\n",
      "Epoch 5/100\n",
      "221/221 [==============================] - 0s 1ms/step - loss: 1.6161 - accuracy: 0.4314 - val_loss: 1.3781 - val_accuracy: 0.5204\n",
      "Epoch 6/100\n",
      "221/221 [==============================] - 0s 2ms/step - loss: 1.5193 - accuracy: 0.4688 - val_loss: 1.2525 - val_accuracy: 0.5891\n",
      "Epoch 7/100\n",
      "221/221 [==============================] - 0s 2ms/step - loss: 1.4243 - accuracy: 0.5049 - val_loss: 1.1762 - val_accuracy: 0.6107\n",
      "Epoch 8/100\n",
      "221/221 [==============================] - 0s 2ms/step - loss: 1.3582 - accuracy: 0.5331 - val_loss: 1.0781 - val_accuracy: 0.6476\n",
      "Epoch 9/100\n",
      "221/221 [==============================] - 0s 1ms/step - loss: 1.2943 - accuracy: 0.5658 - val_loss: 1.0532 - val_accuracy: 0.6399\n",
      "Epoch 10/100\n",
      "221/221 [==============================] - 0s 2ms/step - loss: 1.2315 - accuracy: 0.5790 - val_loss: 1.0378 - val_accuracy: 0.6603\n",
      "Epoch 11/100\n",
      "221/221 [==============================] - 0s 2ms/step - loss: 1.1659 - accuracy: 0.6008 - val_loss: 0.9361 - val_accuracy: 0.6870\n",
      "Epoch 12/100\n",
      "221/221 [==============================] - 0s 2ms/step - loss: 1.1195 - accuracy: 0.6161 - val_loss: 0.8909 - val_accuracy: 0.7150\n",
      "Epoch 13/100\n",
      "221/221 [==============================] - 0s 2ms/step - loss: 1.0758 - accuracy: 0.6308 - val_loss: 0.8673 - val_accuracy: 0.7010\n",
      "Epoch 14/100\n",
      "221/221 [==============================] - 0s 2ms/step - loss: 1.0450 - accuracy: 0.6362 - val_loss: 0.8410 - val_accuracy: 0.7125\n",
      "Epoch 15/100\n",
      "221/221 [==============================] - 0s 2ms/step - loss: 1.0091 - accuracy: 0.6529 - val_loss: 0.7834 - val_accuracy: 0.7226\n",
      "Epoch 16/100\n",
      "221/221 [==============================] - 0s 2ms/step - loss: 0.9709 - accuracy: 0.6702 - val_loss: 0.7705 - val_accuracy: 0.7468\n",
      "Epoch 17/100\n",
      "221/221 [==============================] - 0s 2ms/step - loss: 0.9398 - accuracy: 0.6749 - val_loss: 0.7881 - val_accuracy: 0.7316\n",
      "Epoch 18/100\n",
      "221/221 [==============================] - 0s 2ms/step - loss: 0.9133 - accuracy: 0.6899 - val_loss: 0.7165 - val_accuracy: 0.7557\n",
      "Epoch 19/100\n",
      "221/221 [==============================] - 0s 2ms/step - loss: 0.9015 - accuracy: 0.6924 - val_loss: 0.6709 - val_accuracy: 0.7799\n",
      "Epoch 20/100\n",
      "221/221 [==============================] - 0s 2ms/step - loss: 0.8398 - accuracy: 0.7115 - val_loss: 0.6310 - val_accuracy: 0.7824\n",
      "Epoch 21/100\n",
      "221/221 [==============================] - 0s 2ms/step - loss: 0.8406 - accuracy: 0.7101 - val_loss: 0.5975 - val_accuracy: 0.7888\n",
      "Epoch 22/100\n",
      "221/221 [==============================] - 0s 2ms/step - loss: 0.8090 - accuracy: 0.7200 - val_loss: 0.5879 - val_accuracy: 0.7812\n",
      "Epoch 23/100\n",
      "221/221 [==============================] - 0s 2ms/step - loss: 0.7895 - accuracy: 0.7308 - val_loss: 0.5882 - val_accuracy: 0.8041\n",
      "Epoch 24/100\n",
      "221/221 [==============================] - 0s 2ms/step - loss: 0.7784 - accuracy: 0.7313 - val_loss: 0.5699 - val_accuracy: 0.8130\n",
      "Epoch 25/100\n",
      "221/221 [==============================] - 0s 2ms/step - loss: 0.7479 - accuracy: 0.7425 - val_loss: 0.5510 - val_accuracy: 0.8168\n",
      "Epoch 26/100\n",
      "221/221 [==============================] - 0s 1ms/step - loss: 0.7383 - accuracy: 0.7487 - val_loss: 0.5460 - val_accuracy: 0.8168\n",
      "Epoch 27/100\n",
      "221/221 [==============================] - 0s 2ms/step - loss: 0.7000 - accuracy: 0.7630 - val_loss: 0.5309 - val_accuracy: 0.8244\n",
      "Epoch 28/100\n",
      "221/221 [==============================] - 0s 1ms/step - loss: 0.7091 - accuracy: 0.7586 - val_loss: 0.5409 - val_accuracy: 0.8193\n",
      "Epoch 29/100\n",
      "221/221 [==============================] - 0s 2ms/step - loss: 0.6938 - accuracy: 0.7698 - val_loss: 0.5226 - val_accuracy: 0.8270\n",
      "Epoch 30/100\n",
      "221/221 [==============================] - 0s 1ms/step - loss: 0.6609 - accuracy: 0.7735 - val_loss: 0.5171 - val_accuracy: 0.8282\n",
      "Epoch 31/100\n",
      "221/221 [==============================] - 0s 2ms/step - loss: 0.6747 - accuracy: 0.7698 - val_loss: 0.5240 - val_accuracy: 0.8053\n",
      "Epoch 32/100\n",
      "221/221 [==============================] - 0s 2ms/step - loss: 0.6245 - accuracy: 0.7895 - val_loss: 0.5044 - val_accuracy: 0.8372\n",
      "Epoch 33/100\n",
      "221/221 [==============================] - 0s 1ms/step - loss: 0.6594 - accuracy: 0.7757 - val_loss: 0.4797 - val_accuracy: 0.8461\n",
      "Epoch 34/100\n",
      "221/221 [==============================] - 0s 2ms/step - loss: 0.6268 - accuracy: 0.7855 - val_loss: 0.4738 - val_accuracy: 0.8333\n",
      "Epoch 35/100\n",
      "221/221 [==============================] - 0s 1ms/step - loss: 0.6187 - accuracy: 0.7879 - val_loss: 0.4637 - val_accuracy: 0.8142\n",
      "Epoch 36/100\n",
      "221/221 [==============================] - 0s 2ms/step - loss: 0.6015 - accuracy: 0.7933 - val_loss: 0.4628 - val_accuracy: 0.8333\n",
      "Epoch 37/100\n",
      "221/221 [==============================] - 0s 2ms/step - loss: 0.6141 - accuracy: 0.7921 - val_loss: 0.4750 - val_accuracy: 0.8537\n",
      "Epoch 38/100\n",
      "221/221 [==============================] - 0s 2ms/step - loss: 0.5621 - accuracy: 0.8115 - val_loss: 0.4404 - val_accuracy: 0.8422\n",
      "Epoch 39/100\n",
      "221/221 [==============================] - 0s 2ms/step - loss: 0.5731 - accuracy: 0.8037 - val_loss: 0.4403 - val_accuracy: 0.8422\n",
      "Epoch 40/100\n",
      "221/221 [==============================] - 0s 2ms/step - loss: 0.5707 - accuracy: 0.8026 - val_loss: 0.4449 - val_accuracy: 0.8511\n",
      "Epoch 41/100\n",
      "221/221 [==============================] - 0s 2ms/step - loss: 0.5679 - accuracy: 0.8101 - val_loss: 0.3930 - val_accuracy: 0.8664\n",
      "Epoch 42/100\n",
      "221/221 [==============================] - 0s 2ms/step - loss: 0.5681 - accuracy: 0.8094 - val_loss: 0.4269 - val_accuracy: 0.8575\n",
      "Epoch 43/100\n",
      "221/221 [==============================] - 0s 1ms/step - loss: 0.5427 - accuracy: 0.8129 - val_loss: 0.4338 - val_accuracy: 0.8575\n",
      "Epoch 44/100\n",
      "221/221 [==============================] - 0s 2ms/step - loss: 0.5679 - accuracy: 0.8095 - val_loss: 0.4233 - val_accuracy: 0.8524\n",
      "Epoch 45/100\n",
      "221/221 [==============================] - 0s 1ms/step - loss: 0.5454 - accuracy: 0.8183 - val_loss: 0.4030 - val_accuracy: 0.8550\n",
      "Epoch 46/100\n",
      "221/221 [==============================] - 0s 2ms/step - loss: 0.5154 - accuracy: 0.8241 - val_loss: 0.4269 - val_accuracy: 0.8601\n",
      "Epoch 47/100\n",
      "221/221 [==============================] - 0s 2ms/step - loss: 0.5099 - accuracy: 0.8231 - val_loss: 0.3923 - val_accuracy: 0.8575\n",
      "Epoch 48/100\n",
      "221/221 [==============================] - 0s 2ms/step - loss: 0.5174 - accuracy: 0.8197 - val_loss: 0.4287 - val_accuracy: 0.8511\n",
      "Epoch 49/100\n",
      "221/221 [==============================] - 0s 2ms/step - loss: 0.5226 - accuracy: 0.8231 - val_loss: 0.4132 - val_accuracy: 0.8626\n",
      "Epoch 50/100\n",
      "221/221 [==============================] - 0s 2ms/step - loss: 0.5167 - accuracy: 0.8247 - val_loss: 0.4149 - val_accuracy: 0.8562\n",
      "Epoch 51/100\n",
      "221/221 [==============================] - 0s 2ms/step - loss: 0.4772 - accuracy: 0.8433 - val_loss: 0.3972 - val_accuracy: 0.8613\n",
      "Epoch 52/100\n",
      "221/221 [==============================] - 0s 2ms/step - loss: 0.5005 - accuracy: 0.8296 - val_loss: 0.4068 - val_accuracy: 0.8473\n",
      "Epoch 53/100\n",
      "221/221 [==============================] - 0s 1ms/step - loss: 0.4961 - accuracy: 0.8300 - val_loss: 0.3940 - val_accuracy: 0.8690\n",
      "Epoch 54/100\n",
      "221/221 [==============================] - 0s 2ms/step - loss: 0.4859 - accuracy: 0.8395 - val_loss: 0.3973 - val_accuracy: 0.8728\n",
      "Epoch 55/100\n",
      "221/221 [==============================] - 0s 2ms/step - loss: 0.4802 - accuracy: 0.8399 - val_loss: 0.4085 - val_accuracy: 0.8639\n",
      "Epoch 56/100\n",
      "221/221 [==============================] - 0s 2ms/step - loss: 0.4842 - accuracy: 0.8391 - val_loss: 0.3956 - val_accuracy: 0.8651\n",
      "Epoch 57/100\n",
      "221/221 [==============================] - 0s 1ms/step - loss: 0.4822 - accuracy: 0.8312 - val_loss: 0.4018 - val_accuracy: 0.8664\n",
      "Epoch 58/100\n"
     ]
    },
    {
     "name": "stdout",
     "output_type": "stream",
     "text": [
      "221/221 [==============================] - 0s 1ms/step - loss: 0.4634 - accuracy: 0.8443 - val_loss: 0.4192 - val_accuracy: 0.8626\n",
      "Epoch 59/100\n",
      "221/221 [==============================] - 0s 1ms/step - loss: 0.4810 - accuracy: 0.8394 - val_loss: 0.3802 - val_accuracy: 0.8753\n",
      "Epoch 60/100\n",
      "221/221 [==============================] - 0s 1ms/step - loss: 0.4502 - accuracy: 0.8512 - val_loss: 0.3999 - val_accuracy: 0.8753\n",
      "Epoch 61/100\n",
      "221/221 [==============================] - 0s 1ms/step - loss: 0.4621 - accuracy: 0.8450 - val_loss: 0.3719 - val_accuracy: 0.8868\n",
      "Epoch 62/100\n",
      "221/221 [==============================] - 0s 1ms/step - loss: 0.4616 - accuracy: 0.8398 - val_loss: 0.3757 - val_accuracy: 0.8791\n",
      "Epoch 63/100\n",
      "221/221 [==============================] - 0s 2ms/step - loss: 0.4527 - accuracy: 0.8481 - val_loss: 0.4033 - val_accuracy: 0.8753\n",
      "Epoch 64/100\n",
      "221/221 [==============================] - 0s 1ms/step - loss: 0.4481 - accuracy: 0.8528 - val_loss: 0.3793 - val_accuracy: 0.8715\n",
      "Epoch 65/100\n",
      "221/221 [==============================] - 0s 2ms/step - loss: 0.4241 - accuracy: 0.8495 - val_loss: 0.3813 - val_accuracy: 0.8702\n",
      "Epoch 66/100\n",
      "221/221 [==============================] - 0s 2ms/step - loss: 0.4463 - accuracy: 0.8493 - val_loss: 0.3630 - val_accuracy: 0.8842\n",
      "Epoch 67/100\n",
      "221/221 [==============================] - 0s 1ms/step - loss: 0.4045 - accuracy: 0.8606 - val_loss: 0.3645 - val_accuracy: 0.8880\n",
      "Epoch 68/100\n",
      "221/221 [==============================] - 0s 1ms/step - loss: 0.4185 - accuracy: 0.8604 - val_loss: 0.4115 - val_accuracy: 0.8639\n",
      "Epoch 69/100\n",
      "221/221 [==============================] - 0s 1ms/step - loss: 0.4189 - accuracy: 0.8576 - val_loss: 0.3687 - val_accuracy: 0.8919\n",
      "Epoch 70/100\n",
      "221/221 [==============================] - 0s 1ms/step - loss: 0.4319 - accuracy: 0.8609 - val_loss: 0.3600 - val_accuracy: 0.8880\n",
      "Epoch 71/100\n",
      "221/221 [==============================] - 0s 1ms/step - loss: 0.4226 - accuracy: 0.8644 - val_loss: 0.3988 - val_accuracy: 0.8766\n",
      "Epoch 72/100\n",
      "221/221 [==============================] - 0s 1ms/step - loss: 0.3994 - accuracy: 0.8664 - val_loss: 0.3754 - val_accuracy: 0.8868\n",
      "Epoch 73/100\n",
      "221/221 [==============================] - 0s 2ms/step - loss: 0.4194 - accuracy: 0.8620 - val_loss: 0.3617 - val_accuracy: 0.8880\n",
      "Epoch 74/100\n",
      "221/221 [==============================] - 0s 1ms/step - loss: 0.4170 - accuracy: 0.8596 - val_loss: 0.3733 - val_accuracy: 0.8817\n",
      "Epoch 75/100\n",
      "221/221 [==============================] - 0s 1ms/step - loss: 0.4052 - accuracy: 0.8626 - val_loss: 0.3643 - val_accuracy: 0.8868\n",
      "Epoch 76/100\n",
      "221/221 [==============================] - 0s 1ms/step - loss: 0.4147 - accuracy: 0.8586 - val_loss: 0.3729 - val_accuracy: 0.8804\n",
      "Epoch 77/100\n",
      "221/221 [==============================] - 0s 1ms/step - loss: 0.4207 - accuracy: 0.8620 - val_loss: 0.3781 - val_accuracy: 0.8779\n",
      "Epoch 78/100\n",
      "221/221 [==============================] - 0s 1ms/step - loss: 0.4054 - accuracy: 0.8678 - val_loss: 0.3758 - val_accuracy: 0.8753\n",
      "Epoch 79/100\n",
      "221/221 [==============================] - 0s 1ms/step - loss: 0.4158 - accuracy: 0.8664 - val_loss: 0.3560 - val_accuracy: 0.8842\n",
      "Epoch 80/100\n",
      "221/221 [==============================] - 0s 1ms/step - loss: 0.3873 - accuracy: 0.8705 - val_loss: 0.4128 - val_accuracy: 0.8868\n",
      "Epoch 81/100\n",
      "221/221 [==============================] - 0s 1ms/step - loss: 0.3958 - accuracy: 0.8664 - val_loss: 0.3867 - val_accuracy: 0.8791\n",
      "Epoch 82/100\n",
      "221/221 [==============================] - 0s 1ms/step - loss: 0.3895 - accuracy: 0.8692 - val_loss: 0.3898 - val_accuracy: 0.8715\n",
      "Epoch 83/100\n",
      "221/221 [==============================] - 0s 1ms/step - loss: 0.4007 - accuracy: 0.8689 - val_loss: 0.3825 - val_accuracy: 0.8702\n",
      "Epoch 84/100\n",
      "221/221 [==============================] - 0s 1ms/step - loss: 0.3842 - accuracy: 0.8727 - val_loss: 0.3439 - val_accuracy: 0.8842\n",
      "Epoch 85/100\n",
      "221/221 [==============================] - 0s 1ms/step - loss: 0.3798 - accuracy: 0.8719 - val_loss: 0.3628 - val_accuracy: 0.8804\n",
      "Epoch 86/100\n",
      "221/221 [==============================] - 0s 1ms/step - loss: 0.3765 - accuracy: 0.8716 - val_loss: 0.3837 - val_accuracy: 0.8791\n",
      "Epoch 87/100\n",
      "221/221 [==============================] - 0s 1ms/step - loss: 0.3745 - accuracy: 0.8753 - val_loss: 0.3680 - val_accuracy: 0.8919\n",
      "Epoch 88/100\n",
      "221/221 [==============================] - 0s 1ms/step - loss: 0.3732 - accuracy: 0.8688 - val_loss: 0.3858 - val_accuracy: 0.8779\n",
      "Epoch 89/100\n",
      "221/221 [==============================] - 0s 1ms/step - loss: 0.3933 - accuracy: 0.8691 - val_loss: 0.3696 - val_accuracy: 0.8804\n",
      "Epoch 90/100\n",
      "221/221 [==============================] - 0s 1ms/step - loss: 0.3829 - accuracy: 0.8733 - val_loss: 0.3738 - val_accuracy: 0.8753\n",
      "Epoch 91/100\n",
      "221/221 [==============================] - 0s 1ms/step - loss: 0.3917 - accuracy: 0.8710 - val_loss: 0.3325 - val_accuracy: 0.8957\n",
      "Epoch 92/100\n",
      "221/221 [==============================] - 0s 1ms/step - loss: 0.3732 - accuracy: 0.8733 - val_loss: 0.3534 - val_accuracy: 0.8880\n",
      "Epoch 93/100\n",
      "221/221 [==============================] - 0s 1ms/step - loss: 0.3614 - accuracy: 0.8766 - val_loss: 0.3996 - val_accuracy: 0.8664\n",
      "Epoch 94/100\n",
      "221/221 [==============================] - 0s 1ms/step - loss: 0.3638 - accuracy: 0.8835 - val_loss: 0.3611 - val_accuracy: 0.8830\n",
      "Epoch 95/100\n",
      "221/221 [==============================] - 0s 1ms/step - loss: 0.3523 - accuracy: 0.8799 - val_loss: 0.3992 - val_accuracy: 0.8804\n",
      "Epoch 96/100\n",
      "221/221 [==============================] - 0s 1ms/step - loss: 0.3684 - accuracy: 0.8750 - val_loss: 0.3668 - val_accuracy: 0.8779\n",
      "Epoch 97/100\n",
      "221/221 [==============================] - 0s 1ms/step - loss: 0.3596 - accuracy: 0.8865 - val_loss: 0.3573 - val_accuracy: 0.9008\n",
      "Epoch 98/100\n",
      "221/221 [==============================] - 0s 1ms/step - loss: 0.3610 - accuracy: 0.8764 - val_loss: 0.3882 - val_accuracy: 0.8817\n",
      "Epoch 99/100\n",
      "221/221 [==============================] - 0s 1ms/step - loss: 0.3507 - accuracy: 0.8839 - val_loss: 0.3299 - val_accuracy: 0.8969\n",
      "Epoch 100/100\n",
      "221/221 [==============================] - 0s 1ms/step - loss: 0.3725 - accuracy: 0.8716 - val_loss: 0.3527 - val_accuracy: 0.8995\n"
     ]
    }
   ],
   "source": [
    "historyANN = modelANN.fit(\n",
    "    X_train, \n",
    "    y_train, \n",
    "    epochs=epochs, \n",
    "    batch_size=batch_size, \n",
    "    validation_data=(X_val, y_val), \n",
    "    callbacks=[early_stop]\n",
    ")"
   ]
  },
  {
   "cell_type": "code",
   "execution_count": 19,
   "id": "2d7aa02b",
   "metadata": {
    "scrolled": true
   },
   "outputs": [
    {
     "name": "stdout",
     "output_type": "stream",
     "text": [
      "28/28 [==============================] - 0s 731us/step - loss: 0.3822 - accuracy: 0.8890\n",
      "\n",
      "The model test accuracy is 88.90160322189331 \n",
      "\n",
      "The model test loss is 38.22210133075714\n"
     ]
    }
   ],
   "source": [
    "score = modelANN.evaluate(X_test, y_test)\n",
    "print('\\nThe model test accuracy is',score[1]*100 ,'\\n\\nThe model test loss is',score[0]*100)"
   ]
  },
  {
   "cell_type": "code",
   "execution_count": 20,
   "id": "a0327d26",
   "metadata": {},
   "outputs": [
    {
     "data": {
      "image/png": "[encoded data removed]",
      "text/plain": [
       "<Figure size 432x288 with 1 Axes>"
      ]
     },
     "metadata": {
      "needs_background": "light"
     },
     "output_type": "display_data"
    },
    {
     "data": {
      "image/png": "[encoded data removed]",
      "text/plain": [
       "<Figure size 432x288 with 1 Axes>"
      ]
     },
     "metadata": {
      "needs_background": "light"
     },
     "output_type": "display_data"
    }
   ],
   "source": [
    "import matplotlib.pyplot as plt\n",
    "\n",
    "# Plot the convergence graph for loss\n",
    "plt.plot(historyANN.history['loss'])\n",
    "plt.plot(historyANN.history['val_loss'])\n",
    "plt.title('Model Loss')\n",
    "plt.ylabel('Loss')\n",
    "plt.xlabel('Epoch')\n",
    "plt.legend(['Train', 'Validation'], loc='upper right')\n",
    "plt.show()\n",
    "\n",
    "# Plot the convergence graph for accuracy\n",
    "plt.plot(historyANN.history['accuracy'])\n",
    "plt.plot(historyANN.history['val_accuracy'])\n",
    "plt.title('Model Accuracy')\n",
    "plt.ylabel('Accuracy')\n",
    "plt.xlabel('Epoch')\n",
    "plt.legend(['Train', 'Validation'], loc='lower right')\n",
    "plt.show()"
   ]
  },
  {
   "cell_type": "code",
   "execution_count": 23,
   "id": "67aa4c30",
   "metadata": {},
   "outputs": [
    {
     "name": "stdout",
     "output_type": "stream",
     "text": [
      "[[97  0  2  0  0  0  0  0  0  1]\n",
      " [ 1 32  0  0  1  2  1  1  2  3]\n",
      " [ 4  1 86  2  2  1  0  0  1  3]\n",
      " [ 1  0  4 79  0  1  5  0  5  5]\n",
      " [ 0  0  3  0 91  0  1  3  2  0]\n",
      " [ 0  0  3  0  0 97  0  0  0  0]\n",
      " [ 1  0  2  0  1  0 34  0  0  0]\n",
      " [ 1  1  0  0  2  1  0 93  0  2]\n",
      " [ 0  0  2  0  0  0  0  0 90  1]\n",
      " [ 3  1 16  0  0  0  1  1  0 78]]\n"
     ]
    }
   ],
   "source": [
    "from sklearn.metrics import classification_report,confusion_matrix\n",
    "pred = modelANN.predict(X_test)\n",
    "# one hot encoded multiclass labels so converting to argmax\n",
    "arg_pred = np.argmax(pred, axis=1)\n",
    "arg_true = np.argmax(y_test, axis=1)\n",
    "print(confusion_matrix(arg_true, arg_pred))"
   ]
  },
  {
   "cell_type": "code",
   "execution_count": 24,
   "id": "9195dfd4",
   "metadata": {},
   "outputs": [
    {
     "name": "stdout",
     "output_type": "stream",
     "text": [
      "              precision    recall  f1-score   support\n",
      "\n",
      "           0       0.90      0.97      0.93       100\n",
      "           1       0.91      0.74      0.82        43\n",
      "           2       0.73      0.86      0.79       100\n",
      "           3       0.98      0.79      0.87       100\n",
      "           4       0.94      0.91      0.92       100\n",
      "           5       0.95      0.97      0.96       100\n",
      "           6       0.81      0.89      0.85        38\n",
      "           7       0.95      0.93      0.94       100\n",
      "           8       0.90      0.97      0.93        93\n",
      "           9       0.84      0.78      0.81       100\n",
      "\n",
      "    accuracy                           0.89       874\n",
      "   macro avg       0.89      0.88      0.88       874\n",
      "weighted avg       0.89      0.89      0.89       874\n",
      "\n"
     ]
    }
   ],
   "source": [
    "print(classification_report(arg_true, arg_pred))"
   ]
  },
  {
   "cell_type": "code",
   "execution_count": 21,
   "id": "b0ad4e7d",
   "metadata": {},
   "outputs": [],
   "source": [
    "modelANN.save('ann_1.h5')"
   ]
  },
  {
   "cell_type": "markdown",
   "id": "a863e202",
   "metadata": {},
   "source": [
    "#### Model 2 - Newral Network Pruning:\n",
    "\n",
    "In the second model, we are going to try a very effective technique called 'Neural Network Pruning' where we start at a higer number of neurons in the first layer and gradually decrease the neurons in the comming layers. In this model we will start at 500 neurons in the input layer and start to decrease the neurons by 100 in every next layer. We have added a 30% dropout before the output layer sa well."
   ]
  },
  {
   "cell_type": "code",
   "execution_count": 41,
   "id": "8650fdfd",
   "metadata": {},
   "outputs": [
    {
     "name": "stdout",
     "output_type": "stream",
     "text": [
      "Model: \"sequential_1\"\n",
      "_________________________________________________________________\n",
      "Layer (type)                 Output Shape              Param #   \n",
      "=================================================================\n",
      "dense (Dense)                (None, 500)               25000     \n",
      "_________________________________________________________________\n",
      "dense_1 (Dense)              (None, 400)               200400    \n",
      "_________________________________________________________________\n",
      "dense_2 (Dense)              (None, 300)               120300    \n",
      "_________________________________________________________________\n",
      "dense_3 (Dense)              (None, 200)               60200     \n",
      "_________________________________________________________________\n",
      "dense_4 (Dense)              (None, 100)               20100     \n",
      "_________________________________________________________________\n",
      "dropout (Dropout)            (None, 100)               0         \n",
      "_________________________________________________________________\n",
      "dense_5 (Dense)              (None, 10)                1010      \n",
      "=================================================================\n",
      "Total params: 427,010\n",
      "Trainable params: 427,010\n",
      "Non-trainable params: 0\n",
      "_________________________________________________________________\n"
     ]
    }
   ],
   "source": [
    "model2 = Sequential()\n",
    "model2.add(Dense(500, activation='relu', input_shape=input_shape))\n",
    "model2.add(Dense(400, activation='relu'))\n",
    "model2.add(Dense(300, activation='relu'))\n",
    "model2.add(Dense(200, activation='relu'))\n",
    "model2.add(Dense(100, activation='relu'))\n",
    "# drop 30% neurons\n",
    "model2.add(Dropout(0.3))\n",
    "# output layer\n",
    "model2.add(Dense(10, activation='softmax'))\n",
    "# check model summary\n",
    "model2.summary()"
   ]
  },
  {
   "cell_type": "code",
   "execution_count": 42,
   "id": "0f7b3bb6",
   "metadata": {},
   "outputs": [],
   "source": [
    "model2.compile(loss='categorical_crossentropy', optimizer='adam', metrics=['accuracy'])"
   ]
  },
  {
   "cell_type": "code",
   "execution_count": 43,
   "id": "6e6302cd",
   "metadata": {},
   "outputs": [],
   "source": [
    "epochs = 100\n",
    "batch_size = 32\n",
    "early_stop = EarlyStopping(monitor='val_loss', mode='min', verbose=1, patience=25)"
   ]
  },
  {
   "cell_type": "code",
   "execution_count": 44,
   "id": "cde9b7d9",
   "metadata": {
    "scrolled": true
   },
   "outputs": [
    {
     "name": "stdout",
     "output_type": "stream",
     "text": [
      "Epoch 1/100\n",
      "221/221 [==============================] - 1s 2ms/step - loss: 1.9760 - accuracy: 0.3512 - val_loss: 1.4351 - val_accuracy: 0.5064\n",
      "Epoch 2/100\n",
      "221/221 [==============================] - 0s 2ms/step - loss: 1.4706 - accuracy: 0.4901 - val_loss: 1.2118 - val_accuracy: 0.5878\n",
      "Epoch 3/100\n",
      "221/221 [==============================] - 0s 2ms/step - loss: 1.2568 - accuracy: 0.5771 - val_loss: 1.0334 - val_accuracy: 0.6374\n",
      "Epoch 4/100\n",
      "221/221 [==============================] - 0s 2ms/step - loss: 1.1094 - accuracy: 0.6208 - val_loss: 0.9450 - val_accuracy: 0.6743\n",
      "Epoch 5/100\n",
      "221/221 [==============================] - 0s 1ms/step - loss: 0.9859 - accuracy: 0.6745 - val_loss: 0.8972 - val_accuracy: 0.6934\n",
      "Epoch 6/100\n",
      "221/221 [==============================] - 0s 2ms/step - loss: 0.8831 - accuracy: 0.7083 - val_loss: 0.8102 - val_accuracy: 0.7176\n",
      "Epoch 7/100\n",
      "221/221 [==============================] - 0s 2ms/step - loss: 0.7930 - accuracy: 0.7320 - val_loss: 0.6550 - val_accuracy: 0.7735\n",
      "Epoch 8/100\n",
      "221/221 [==============================] - 0s 1ms/step - loss: 0.7137 - accuracy: 0.7600 - val_loss: 0.6622 - val_accuracy: 0.7761\n",
      "Epoch 9/100\n",
      "221/221 [==============================] - 0s 1ms/step - loss: 0.6312 - accuracy: 0.7862 - val_loss: 0.5957 - val_accuracy: 0.7863\n",
      "Epoch 10/100\n",
      "221/221 [==============================] - 0s 2ms/step - loss: 0.5781 - accuracy: 0.8023 - val_loss: 0.6232 - val_accuracy: 0.8066\n",
      "Epoch 11/100\n",
      "221/221 [==============================] - 0s 2ms/step - loss: 0.5296 - accuracy: 0.8172 - val_loss: 0.5923 - val_accuracy: 0.8079\n",
      "Epoch 12/100\n",
      "221/221 [==============================] - 0s 2ms/step - loss: 0.4848 - accuracy: 0.8353 - val_loss: 0.5726 - val_accuracy: 0.8104\n",
      "Epoch 13/100\n",
      "221/221 [==============================] - 0s 2ms/step - loss: 0.4693 - accuracy: 0.8398 - val_loss: 0.5824 - val_accuracy: 0.8053\n",
      "Epoch 14/100\n",
      "221/221 [==============================] - 0s 2ms/step - loss: 0.4292 - accuracy: 0.8553 - val_loss: 0.5449 - val_accuracy: 0.8181\n",
      "Epoch 15/100\n",
      "221/221 [==============================] - 0s 1ms/step - loss: 0.3956 - accuracy: 0.8640 - val_loss: 0.4907 - val_accuracy: 0.8448\n",
      "Epoch 16/100\n",
      "221/221 [==============================] - 0s 2ms/step - loss: 0.3715 - accuracy: 0.8733 - val_loss: 0.5334 - val_accuracy: 0.8575\n",
      "Epoch 17/100\n",
      "221/221 [==============================] - 0s 2ms/step - loss: 0.3499 - accuracy: 0.8846 - val_loss: 0.5562 - val_accuracy: 0.8422\n",
      "Epoch 18/100\n",
      "221/221 [==============================] - 0s 2ms/step - loss: 0.3230 - accuracy: 0.8944 - val_loss: 0.4682 - val_accuracy: 0.8588\n",
      "Epoch 19/100\n",
      "221/221 [==============================] - 0s 2ms/step - loss: 0.2812 - accuracy: 0.9054 - val_loss: 0.5715 - val_accuracy: 0.8333\n",
      "Epoch 20/100\n",
      "221/221 [==============================] - 0s 2ms/step - loss: 0.2709 - accuracy: 0.9055 - val_loss: 0.4225 - val_accuracy: 0.8804\n",
      "Epoch 21/100\n",
      "221/221 [==============================] - 0s 2ms/step - loss: 0.2618 - accuracy: 0.9153 - val_loss: 0.4800 - val_accuracy: 0.8601\n",
      "Epoch 22/100\n",
      "221/221 [==============================] - 0s 2ms/step - loss: 0.2772 - accuracy: 0.9156 - val_loss: 0.4957 - val_accuracy: 0.8651\n",
      "Epoch 23/100\n",
      "221/221 [==============================] - 0s 2ms/step - loss: 0.2678 - accuracy: 0.9152 - val_loss: 0.5530 - val_accuracy: 0.8537\n",
      "Epoch 24/100\n",
      "221/221 [==============================] - 0s 2ms/step - loss: 0.2351 - accuracy: 0.9212 - val_loss: 0.4802 - val_accuracy: 0.8550\n",
      "Epoch 25/100\n",
      "221/221 [==============================] - 0s 2ms/step - loss: 0.2182 - accuracy: 0.9313 - val_loss: 0.4592 - val_accuracy: 0.8830\n",
      "Epoch 26/100\n",
      "221/221 [==============================] - 0s 2ms/step - loss: 0.1608 - accuracy: 0.9430 - val_loss: 0.4976 - val_accuracy: 0.8766\n",
      "Epoch 27/100\n",
      "221/221 [==============================] - 0s 2ms/step - loss: 0.1996 - accuracy: 0.9368 - val_loss: 0.4283 - val_accuracy: 0.8868\n",
      "Epoch 28/100\n",
      "221/221 [==============================] - 0s 2ms/step - loss: 0.2092 - accuracy: 0.9317 - val_loss: 0.4122 - val_accuracy: 0.8830\n",
      "Epoch 29/100\n",
      "221/221 [==============================] - 0s 2ms/step - loss: 0.1561 - accuracy: 0.9526 - val_loss: 0.5149 - val_accuracy: 0.8931\n",
      "Epoch 30/100\n",
      "221/221 [==============================] - 0s 2ms/step - loss: 0.1646 - accuracy: 0.9430 - val_loss: 0.5006 - val_accuracy: 0.8728\n",
      "Epoch 31/100\n",
      "221/221 [==============================] - 0s 2ms/step - loss: 0.1745 - accuracy: 0.9427 - val_loss: 0.5123 - val_accuracy: 0.8779\n",
      "Epoch 32/100\n",
      "221/221 [==============================] - 0s 2ms/step - loss: 0.1836 - accuracy: 0.9410 - val_loss: 0.5342 - val_accuracy: 0.8804\n",
      "Epoch 33/100\n",
      "221/221 [==============================] - 0s 2ms/step - loss: 0.1425 - accuracy: 0.9494 - val_loss: 0.4837 - val_accuracy: 0.8842\n",
      "Epoch 34/100\n",
      "221/221 [==============================] - 0s 2ms/step - loss: 0.1522 - accuracy: 0.9522 - val_loss: 0.4681 - val_accuracy: 0.8931\n",
      "Epoch 35/100\n",
      "221/221 [==============================] - 0s 2ms/step - loss: 0.1000 - accuracy: 0.9655 - val_loss: 0.5209 - val_accuracy: 0.8855\n",
      "Epoch 36/100\n",
      "221/221 [==============================] - 0s 2ms/step - loss: 0.1746 - accuracy: 0.9491 - val_loss: 0.5518 - val_accuracy: 0.8868\n",
      "Epoch 37/100\n",
      "221/221 [==============================] - 0s 2ms/step - loss: 0.1864 - accuracy: 0.9543 - val_loss: 0.4755 - val_accuracy: 0.9008\n",
      "Epoch 38/100\n",
      "221/221 [==============================] - 0s 2ms/step - loss: 0.1588 - accuracy: 0.9584 - val_loss: 0.5420 - val_accuracy: 0.8969\n",
      "Epoch 39/100\n",
      "221/221 [==============================] - 0s 2ms/step - loss: 0.0939 - accuracy: 0.9683 - val_loss: 0.6603 - val_accuracy: 0.8677\n",
      "Epoch 40/100\n",
      "221/221 [==============================] - 0s 2ms/step - loss: 0.1207 - accuracy: 0.9611 - val_loss: 0.5711 - val_accuracy: 0.8868\n",
      "Epoch 41/100\n",
      "221/221 [==============================] - 0s 2ms/step - loss: 0.1017 - accuracy: 0.9686 - val_loss: 0.7031 - val_accuracy: 0.8868\n",
      "Epoch 42/100\n",
      "221/221 [==============================] - 0s 2ms/step - loss: 0.1090 - accuracy: 0.9665 - val_loss: 0.6455 - val_accuracy: 0.8677\n",
      "Epoch 43/100\n",
      "221/221 [==============================] - 0s 2ms/step - loss: 0.1406 - accuracy: 0.9573 - val_loss: 0.5385 - val_accuracy: 0.8855\n",
      "Epoch 44/100\n",
      "221/221 [==============================] - 0s 2ms/step - loss: 0.1352 - accuracy: 0.9610 - val_loss: 0.5811 - val_accuracy: 0.8868\n",
      "Epoch 45/100\n",
      "221/221 [==============================] - 0s 2ms/step - loss: 0.1078 - accuracy: 0.9669 - val_loss: 0.5527 - val_accuracy: 0.9059\n",
      "Epoch 46/100\n",
      "221/221 [==============================] - 0s 2ms/step - loss: 0.1110 - accuracy: 0.9716 - val_loss: 0.6912 - val_accuracy: 0.8791\n",
      "Epoch 47/100\n",
      "221/221 [==============================] - 0s 2ms/step - loss: 0.1281 - accuracy: 0.9644 - val_loss: 0.5441 - val_accuracy: 0.9008\n",
      "Epoch 48/100\n",
      "221/221 [==============================] - 0s 2ms/step - loss: 0.1012 - accuracy: 0.9675 - val_loss: 0.4622 - val_accuracy: 0.9008\n",
      "Epoch 49/100\n",
      "221/221 [==============================] - 0s 2ms/step - loss: 0.0843 - accuracy: 0.9727 - val_loss: 0.5733 - val_accuracy: 0.8931\n",
      "Epoch 50/100\n",
      "221/221 [==============================] - 0s 2ms/step - loss: 0.1294 - accuracy: 0.9645 - val_loss: 0.5989 - val_accuracy: 0.8766\n",
      "Epoch 51/100\n",
      "221/221 [==============================] - 0s 2ms/step - loss: 0.1049 - accuracy: 0.9721 - val_loss: 0.6494 - val_accuracy: 0.8702\n",
      "Epoch 52/100\n",
      "221/221 [==============================] - 0s 2ms/step - loss: 0.1185 - accuracy: 0.9658 - val_loss: 0.5012 - val_accuracy: 0.9046\n",
      "Epoch 53/100\n",
      "221/221 [==============================] - 0s 1ms/step - loss: 0.0468 - accuracy: 0.9870 - val_loss: 0.6098 - val_accuracy: 0.8893\n",
      "Epoch 00053: early stopping\n"
     ]
    }
   ],
   "source": [
    "history2 = model2.fit(\n",
    "    X_train, \n",
    "    y_train, \n",
    "    epochs=epochs, \n",
    "    batch_size=batch_size, \n",
    "    validation_data=(X_val, y_val), \n",
    "    callbacks=[early_stop]\n",
    ")"
   ]
  },
  {
   "cell_type": "code",
   "execution_count": 45,
   "id": "5defd24e",
   "metadata": {},
   "outputs": [
    {
     "data": {
      "image/png": "[encoded data removed]",
      "text/plain": [
       "<Figure size 640x480 with 1 Axes>"
      ]
     },
     "metadata": {},
     "output_type": "display_data"
    },
    {
     "data": {
      "image/png": "[encoded data removed]",
      "text/plain": [
       "<Figure size 640x480 with 1 Axes>"
      ]
     },
     "metadata": {},
     "output_type": "display_data"
    }
   ],
   "source": [
    "import matplotlib.pyplot as plt\n",
    "# Plot the convergence graph for loss\n",
    "plt.plot(history2.history['loss'])\n",
    "plt.plot(history2.history['val_loss'])\n",
    "plt.title('Model Loss')\n",
    "plt.ylabel('Loss')\n",
    "plt.xlabel('Epoch')\n",
    "plt.legend(['Train', 'Validation'], loc='upper right')\n",
    "plt.show()\n",
    "\n",
    "# Plot the convergence graph for accuracy\n",
    "plt.plot(history2.history['accuracy'])\n",
    "plt.plot(history2.history['val_accuracy'])\n",
    "plt.title('Model Accuracy')\n",
    "plt.ylabel('Accuracy')\n",
    "plt.xlabel('Epoch')\n",
    "plt.legend(['Train', 'Validation'], loc='lower right')\n",
    "plt.show()"
   ]
  },
  {
   "cell_type": "code",
   "execution_count": 46,
   "id": "51a5aa85",
   "metadata": {},
   "outputs": [
    {
     "name": "stdout",
     "output_type": "stream",
     "text": [
      "[[97  0  0  1  0  0  0  0  0  2]\n",
      " [ 1 32  1  1  0  0  1  0  1  6]\n",
      " [ 3  0 79 10  3  0  0  1  0  4]\n",
      " [ 2  2  6 84  0  0  2  0  2  2]\n",
      " [ 0  3  1  1 90  0  0  3  1  1]\n",
      " [ 0  3  1  0  0 94  1  0  0  1]\n",
      " [ 0  0  0  3  0  0 35  0  0  0]\n",
      " [ 0  1  1  0  3  1  0 94  0  0]\n",
      " [ 0  1  1  0  0  0  0  0 90  1]\n",
      " [ 2  1  3  1  3  0  0  0  0 90]]\n"
     ]
    }
   ],
   "source": [
    "from sklearn.metrics import classification_report,confusion_matrix\n",
    "pred = model2.predict(X_test)\n",
    "# one hot encoded multiclass labels so converting to argmax\n",
    "arg_pred = np.argmax(pred, axis=1)\n",
    "arg_true = np.argmax(y_test, axis=1)\n",
    "print(confusion_matrix(arg_true, arg_pred))"
   ]
  },
  {
   "cell_type": "code",
   "execution_count": 47,
   "id": "6c3b20eb",
   "metadata": {},
   "outputs": [
    {
     "name": "stdout",
     "output_type": "stream",
     "text": [
      "              precision    recall  f1-score   support\n",
      "\n",
      "           0       0.92      0.97      0.95       100\n",
      "           1       0.74      0.74      0.74        43\n",
      "           2       0.85      0.79      0.82       100\n",
      "           3       0.83      0.84      0.84       100\n",
      "           4       0.91      0.90      0.90       100\n",
      "           5       0.99      0.94      0.96       100\n",
      "           6       0.90      0.92      0.91        38\n",
      "           7       0.96      0.94      0.95       100\n",
      "           8       0.96      0.97      0.96        93\n",
      "           9       0.84      0.90      0.87       100\n",
      "\n",
      "    accuracy                           0.90       874\n",
      "   macro avg       0.89      0.89      0.89       874\n",
      "weighted avg       0.90      0.90      0.90       874\n",
      "\n"
     ]
    }
   ],
   "source": [
    "print(classification_report(arg_true, arg_pred))"
   ]
  },
  {
   "cell_type": "code",
   "execution_count": 48,
   "id": "ece13929",
   "metadata": {},
   "outputs": [],
   "source": [
    "model2.save('ann_nnp.h5')"
   ]
  },
  {
   "cell_type": "markdown",
   "id": "00104714",
   "metadata": {},
   "source": [
    "#### Model- 3: Hyperparameter tunning "
   ]
  },
  {
   "cell_type": "code",
   "execution_count": 13,
   "id": "19be2ff6",
   "metadata": {},
   "outputs": [],
   "source": [
    "import tensorflow as tf\n",
    "from tensorflow import keras\n",
    "from tensorflow.keras import layers\n",
    "from kerastuner.tuners import RandomSearch"
   ]
  },
  {
   "cell_type": "code",
   "execution_count": 31,
   "id": "4e5b1d96",
   "metadata": {},
   "outputs": [],
   "source": [
    "def build_model(hp):\n",
    "    model = keras.Sequential()\n",
    "    # Input layer\n",
    "    model.add(layers.Dense(units=hp.Int('units_input', min_value=100, max_value=500, step=16), input_dim=49, activation='relu'))\n",
    "    # Hidden layers\n",
    "    for i in range(hp.Int('num_layers', 1, 5)):\n",
    "        model.add(layers.Dense(units=hp.Int('units_' + str(i), min_value=100, max_value=500, step=16), activation='relu'))\n",
    "    # Output layer\n",
    "    model.add(layers.Dense(units=10, activation='softmax'))\n",
    "    \n",
    "    # Compile the model\n",
    "    model.compile(optimizer=keras.optimizers.Adam(hp.Choice('learning_rate', values=[1e-2, 1e-3, 1e-4])),\n",
    "                  loss='categorical_crossentropy',\n",
    "                  metrics=['accuracy'])\n",
    "    return model\n"
   ]
  },
  {
   "cell_type": "code",
   "execution_count": 32,
   "id": "fea8a14e",
   "metadata": {
    "scrolled": true
   },
   "outputs": [],
   "source": [
    "tuner = RandomSearch(\n",
    "    build_model,\n",
    "    objective='val_accuracy',\n",
    "    max_trials=10,\n",
    "    executions_per_trial=3,\n",
    "    directory='Tuning',\n",
    "    project_name='SoundClassification')\n"
   ]
  },
  {
   "cell_type": "code",
   "execution_count": 51,
   "id": "397467a1",
   "metadata": {
    "scrolled": false
   },
   "outputs": [
    {
     "name": "stdout",
     "output_type": "stream",
     "text": [
      "INFO:tensorflow:Oracle triggered exit\n"
     ]
    }
   ],
   "source": [
    "history_tuned = tuner.search(X_train, y_train, epochs=100, validation_data=(X_val, y_val))\n"
   ]
  },
  {
   "cell_type": "code",
   "execution_count": 54,
   "id": "c0d3fa43",
   "metadata": {},
   "outputs": [],
   "source": [
    "best_hps = tuner.get_best_hyperparameters(num_trials=1)[0]\n"
   ]
  },
  {
   "cell_type": "code",
   "execution_count": 55,
   "id": "34b20d3d",
   "metadata": {
    "scrolled": false
   },
   "outputs": [
    {
     "name": "stdout",
     "output_type": "stream",
     "text": [
      "Results summary\n",
      "Results in Tuning/SoundClassification\n",
      "Showing 10 best trials\n",
      "Objective(name=\"val_accuracy\", direction=\"max\")\n",
      "\n",
      "Trial 08 summary\n",
      "Hyperparameters:\n",
      "units_input: 452\n",
      "num_layers: 2\n",
      "units_0: 436\n",
      "learning_rate: 0.001\n",
      "units_1: 404\n",
      "units_2: 212\n",
      "units_3: 356\n",
      "Score: 0.9189991354942322\n",
      "\n",
      "Trial 07 summary\n",
      "Hyperparameters:\n",
      "units_input: 148\n",
      "num_layers: 4\n",
      "units_0: 116\n",
      "learning_rate: 0.001\n",
      "units_1: 292\n",
      "units_2: 452\n",
      "units_3: 292\n",
      "Score: 0.9156064391136169\n",
      "\n",
      "Trial 00 summary\n",
      "Hyperparameters:\n",
      "units_input: 468\n",
      "num_layers: 2\n",
      "units_0: 292\n",
      "learning_rate: 0.001\n",
      "units_1: 100\n",
      "Score: 0.9139100909233093\n",
      "\n",
      "Trial 03 summary\n",
      "Hyperparameters:\n",
      "units_input: 484\n",
      "num_layers: 4\n",
      "units_0: 452\n",
      "learning_rate: 0.001\n",
      "units_1: 196\n",
      "units_2: 484\n",
      "units_3: 228\n",
      "Score: 0.9122137427330017\n",
      "\n",
      "Trial 01 summary\n",
      "Hyperparameters:\n",
      "units_input: 276\n",
      "num_layers: 4\n",
      "units_0: 340\n",
      "learning_rate: 0.001\n",
      "units_1: 164\n",
      "units_2: 100\n",
      "units_3: 100\n",
      "Score: 0.9113655686378479\n",
      "\n",
      "Trial 05 summary\n",
      "Hyperparameters:\n",
      "units_input: 420\n",
      "num_layers: 2\n",
      "units_0: 292\n",
      "learning_rate: 0.0001\n",
      "units_1: 292\n",
      "units_2: 436\n",
      "units_3: 388\n",
      "Score: 0.8922815918922424\n",
      "\n",
      "Trial 09 summary\n",
      "Hyperparameters:\n",
      "units_input: 244\n",
      "num_layers: 1\n",
      "units_0: 308\n",
      "learning_rate: 0.0001\n",
      "units_1: 452\n",
      "units_2: 324\n",
      "units_3: 100\n",
      "Score: 0.8651399612426758\n",
      "\n",
      "Trial 04 summary\n",
      "Hyperparameters:\n",
      "units_input: 484\n",
      "num_layers: 2\n",
      "units_0: 356\n",
      "learning_rate: 0.01\n",
      "units_1: 484\n",
      "units_2: 340\n",
      "units_3: 100\n",
      "Score: 0.7022900581359863\n",
      "\n",
      "Trial 02 summary\n",
      "Hyperparameters:\n",
      "units_input: 196\n",
      "num_layers: 3\n",
      "units_0: 116\n",
      "learning_rate: 0.01\n",
      "units_1: 180\n",
      "units_2: 228\n",
      "units_3: 436\n",
      "Score: 0.7018659909566244\n",
      "\n",
      "Trial 06 summary\n",
      "Hyperparameters:\n",
      "units_input: 388\n",
      "num_layers: 3\n",
      "units_0: 308\n",
      "learning_rate: 0.01\n",
      "units_1: 148\n",
      "units_2: 340\n",
      "units_3: 148\n",
      "Score: 0.6840542753537496\n"
     ]
    }
   ],
   "source": [
    "tuner.results_summary()"
   ]
  },
  {
   "cell_type": "code",
   "execution_count": 56,
   "id": "8efd3bcb",
   "metadata": {},
   "outputs": [],
   "source": [
    "model = tuner.hypermodel.build(best_hps)"
   ]
  },
  {
   "cell_type": "code",
   "execution_count": 57,
   "id": "9b083ee8",
   "metadata": {},
   "outputs": [
    {
     "name": "stdout",
     "output_type": "stream",
     "text": [
      "Model: \"sequential_2\"\n",
      "_________________________________________________________________\n",
      "Layer (type)                 Output Shape              Param #   \n",
      "=================================================================\n",
      "dense_7 (Dense)              (None, 452)               22600     \n",
      "_________________________________________________________________\n",
      "dense_8 (Dense)              (None, 436)               197508    \n",
      "_________________________________________________________________\n",
      "dense_9 (Dense)              (None, 404)               176548    \n",
      "_________________________________________________________________\n",
      "dense_10 (Dense)             (None, 10)                4050      \n",
      "=================================================================\n",
      "Total params: 400,706\n",
      "Trainable params: 400,706\n",
      "Non-trainable params: 0\n",
      "_________________________________________________________________\n"
     ]
    }
   ],
   "source": [
    "model.summary()"
   ]
  },
  {
   "cell_type": "code",
   "execution_count": 59,
   "id": "42ac6633",
   "metadata": {},
   "outputs": [],
   "source": [
    "from tensorflow.keras import optimizers\n",
    "\n",
    "model.compile(loss='categorical_crossentropy', optimizer = optimizers.Adam(lr=0.001), metrics=['accuracy'])\n"
   ]
  },
  {
   "cell_type": "code",
   "execution_count": 60,
   "id": "6c051026",
   "metadata": {
    "scrolled": true
   },
   "outputs": [
    {
     "name": "stdout",
     "output_type": "stream",
     "text": [
      "Epoch 1/100\n",
      "221/221 [==============================] - 0s 1ms/step - loss: 2.4650 - accuracy: 0.4460 - val_loss: 1.4116 - val_accuracy: 0.5331\n",
      "Epoch 2/100\n",
      "221/221 [==============================] - 0s 1ms/step - loss: 1.2151 - accuracy: 0.5875 - val_loss: 1.1000 - val_accuracy: 0.6247\n",
      "Epoch 3/100\n",
      "221/221 [==============================] - 0s 1ms/step - loss: 1.0571 - accuracy: 0.6349 - val_loss: 0.9255 - val_accuracy: 0.6870\n",
      "Epoch 4/100\n",
      "221/221 [==============================] - 0s 1ms/step - loss: 0.9000 - accuracy: 0.6949 - val_loss: 0.8304 - val_accuracy: 0.7087\n",
      "Epoch 5/100\n",
      "221/221 [==============================] - 0s 1ms/step - loss: 0.7792 - accuracy: 0.7380 - val_loss: 0.7019 - val_accuracy: 0.7710\n",
      "Epoch 6/100\n",
      "221/221 [==============================] - 0s 1ms/step - loss: 0.6684 - accuracy: 0.7714 - val_loss: 0.7163 - val_accuracy: 0.7481\n",
      "Epoch 7/100\n",
      "221/221 [==============================] - 0s 1ms/step - loss: 0.5981 - accuracy: 0.7940 - val_loss: 0.6323 - val_accuracy: 0.7977\n",
      "Epoch 8/100\n",
      "221/221 [==============================] - 0s 1ms/step - loss: 0.5355 - accuracy: 0.8166 - val_loss: 0.6286 - val_accuracy: 0.7850\n",
      "Epoch 9/100\n",
      "221/221 [==============================] - 0s 1ms/step - loss: 0.4884 - accuracy: 0.8336 - val_loss: 0.5838 - val_accuracy: 0.8219\n",
      "Epoch 10/100\n",
      "221/221 [==============================] - 0s 1ms/step - loss: 0.4151 - accuracy: 0.8620 - val_loss: 0.7202 - val_accuracy: 0.8359\n",
      "Epoch 11/100\n",
      "221/221 [==============================] - 0s 1ms/step - loss: 0.3786 - accuracy: 0.8710 - val_loss: 0.6272 - val_accuracy: 0.7990\n",
      "Epoch 12/100\n",
      "221/221 [==============================] - 0s 1ms/step - loss: 0.3899 - accuracy: 0.8736 - val_loss: 0.5213 - val_accuracy: 0.8333\n",
      "Epoch 13/100\n",
      "221/221 [==============================] - 0s 1ms/step - loss: 0.3207 - accuracy: 0.8928 - val_loss: 0.5183 - val_accuracy: 0.8550\n",
      "Epoch 14/100\n",
      "221/221 [==============================] - 0s 1ms/step - loss: 0.2554 - accuracy: 0.9130 - val_loss: 0.4181 - val_accuracy: 0.8842\n",
      "Epoch 15/100\n",
      "221/221 [==============================] - 0s 1ms/step - loss: 0.2604 - accuracy: 0.9137 - val_loss: 0.4379 - val_accuracy: 0.8791\n",
      "Epoch 16/100\n",
      "221/221 [==============================] - 0s 1ms/step - loss: 0.2274 - accuracy: 0.9207 - val_loss: 0.4353 - val_accuracy: 0.8779\n",
      "Epoch 17/100\n",
      "221/221 [==============================] - 0s 1ms/step - loss: 0.2057 - accuracy: 0.9299 - val_loss: 0.4802 - val_accuracy: 0.8766\n",
      "Epoch 18/100\n",
      "221/221 [==============================] - 0s 1ms/step - loss: 0.2075 - accuracy: 0.9318 - val_loss: 0.4757 - val_accuracy: 0.8740\n",
      "Epoch 19/100\n",
      "221/221 [==============================] - 0s 1ms/step - loss: 0.1839 - accuracy: 0.9369 - val_loss: 0.5323 - val_accuracy: 0.8677\n",
      "Epoch 20/100\n",
      "221/221 [==============================] - 0s 1ms/step - loss: 0.2239 - accuracy: 0.9294 - val_loss: 0.4524 - val_accuracy: 0.8817\n",
      "Epoch 21/100\n",
      "221/221 [==============================] - 0s 1ms/step - loss: 0.2002 - accuracy: 0.9369 - val_loss: 0.5367 - val_accuracy: 0.8740\n",
      "Epoch 22/100\n",
      "221/221 [==============================] - 0s 1ms/step - loss: 0.1629 - accuracy: 0.9480 - val_loss: 0.6705 - val_accuracy: 0.8346\n",
      "Epoch 23/100\n",
      "221/221 [==============================] - 0s 1ms/step - loss: 0.1733 - accuracy: 0.9451 - val_loss: 0.5412 - val_accuracy: 0.8626\n",
      "Epoch 24/100\n",
      "221/221 [==============================] - 0s 1ms/step - loss: 0.1253 - accuracy: 0.9562 - val_loss: 0.4454 - val_accuracy: 0.8893\n",
      "Epoch 25/100\n",
      "221/221 [==============================] - 0s 1ms/step - loss: 0.1063 - accuracy: 0.9666 - val_loss: 0.5387 - val_accuracy: 0.8766\n",
      "Epoch 26/100\n",
      "221/221 [==============================] - 0s 1ms/step - loss: 0.1121 - accuracy: 0.9603 - val_loss: 0.5137 - val_accuracy: 0.8817\n",
      "Epoch 27/100\n",
      "221/221 [==============================] - 0s 1ms/step - loss: 0.1536 - accuracy: 0.9485 - val_loss: 0.5321 - val_accuracy: 0.8982\n",
      "Epoch 28/100\n",
      "221/221 [==============================] - 0s 1ms/step - loss: 0.1242 - accuracy: 0.9574 - val_loss: 0.6142 - val_accuracy: 0.8677\n",
      "Epoch 29/100\n",
      "221/221 [==============================] - 0s 1ms/step - loss: 0.1502 - accuracy: 0.9507 - val_loss: 0.5085 - val_accuracy: 0.8944\n",
      "Epoch 30/100\n",
      "221/221 [==============================] - 0s 1ms/step - loss: 0.1271 - accuracy: 0.9604 - val_loss: 0.5410 - val_accuracy: 0.8791\n",
      "Epoch 31/100\n",
      "221/221 [==============================] - 0s 1ms/step - loss: 0.0937 - accuracy: 0.9704 - val_loss: 0.5332 - val_accuracy: 0.8957\n",
      "Epoch 32/100\n",
      "221/221 [==============================] - 0s 1ms/step - loss: 0.1394 - accuracy: 0.9579 - val_loss: 0.5727 - val_accuracy: 0.8702\n",
      "Epoch 33/100\n",
      "221/221 [==============================] - 0s 1ms/step - loss: 0.1509 - accuracy: 0.9584 - val_loss: 0.4689 - val_accuracy: 0.8995\n",
      "Epoch 34/100\n",
      "221/221 [==============================] - 0s 1ms/step - loss: 0.0796 - accuracy: 0.9765 - val_loss: 0.5216 - val_accuracy: 0.8880\n",
      "Epoch 35/100\n",
      "221/221 [==============================] - 0s 1ms/step - loss: 0.1020 - accuracy: 0.9713 - val_loss: 0.6131 - val_accuracy: 0.8893\n",
      "Epoch 36/100\n",
      "221/221 [==============================] - 0s 1ms/step - loss: 0.0800 - accuracy: 0.9741 - val_loss: 0.5820 - val_accuracy: 0.8931\n",
      "Epoch 37/100\n",
      "221/221 [==============================] - 0s 1ms/step - loss: 0.0634 - accuracy: 0.9792 - val_loss: 0.4797 - val_accuracy: 0.9109\n",
      "Epoch 38/100\n",
      "221/221 [==============================] - 0s 1ms/step - loss: 0.0555 - accuracy: 0.9832 - val_loss: 0.6287 - val_accuracy: 0.8906\n",
      "Epoch 39/100\n",
      "221/221 [==============================] - 0s 1ms/step - loss: 0.1248 - accuracy: 0.9625 - val_loss: 0.6597 - val_accuracy: 0.8830\n",
      "Epoch 40/100\n",
      "221/221 [==============================] - 0s 1ms/step - loss: 0.1199 - accuracy: 0.9614 - val_loss: 0.6043 - val_accuracy: 0.8868\n",
      "Epoch 41/100\n",
      "221/221 [==============================] - 0s 1ms/step - loss: 0.0867 - accuracy: 0.9736 - val_loss: 0.6646 - val_accuracy: 0.8842\n",
      "Epoch 42/100\n",
      "221/221 [==============================] - 0s 1ms/step - loss: 0.0733 - accuracy: 0.9796 - val_loss: 0.7554 - val_accuracy: 0.8601\n",
      "Epoch 43/100\n",
      "221/221 [==============================] - 0s 1ms/step - loss: 0.0980 - accuracy: 0.9710 - val_loss: 0.8990 - val_accuracy: 0.8575\n",
      "Epoch 44/100\n",
      "221/221 [==============================] - 0s 1ms/step - loss: 0.0790 - accuracy: 0.9758 - val_loss: 0.7877 - val_accuracy: 0.8830\n",
      "Epoch 45/100\n",
      "221/221 [==============================] - 0s 1ms/step - loss: 0.0793 - accuracy: 0.9775 - val_loss: 0.6927 - val_accuracy: 0.8830\n",
      "Epoch 46/100\n",
      "221/221 [==============================] - 0s 1ms/step - loss: 0.0637 - accuracy: 0.9816 - val_loss: 0.7229 - val_accuracy: 0.8791\n",
      "Epoch 47/100\n",
      "221/221 [==============================] - 0s 1ms/step - loss: 0.0691 - accuracy: 0.9754 - val_loss: 0.6615 - val_accuracy: 0.8919\n",
      "Epoch 48/100\n",
      "221/221 [==============================] - 0s 1ms/step - loss: 0.1271 - accuracy: 0.9607 - val_loss: 0.6504 - val_accuracy: 0.8969\n",
      "Epoch 49/100\n",
      "221/221 [==============================] - 0s 1ms/step - loss: 0.0562 - accuracy: 0.9809 - val_loss: 0.6534 - val_accuracy: 0.9008\n",
      "Epoch 50/100\n",
      "221/221 [==============================] - 0s 1ms/step - loss: 0.0333 - accuracy: 0.9885 - val_loss: 0.6443 - val_accuracy: 0.8880\n",
      "Epoch 51/100\n",
      "221/221 [==============================] - 0s 1ms/step - loss: 0.0696 - accuracy: 0.9777 - val_loss: 0.6376 - val_accuracy: 0.8868\n",
      "Epoch 52/100\n",
      "221/221 [==============================] - 0s 1ms/step - loss: 0.0738 - accuracy: 0.9770 - val_loss: 0.6200 - val_accuracy: 0.8995\n",
      "Epoch 53/100\n",
      "221/221 [==============================] - 0s 1ms/step - loss: 0.0834 - accuracy: 0.9753 - val_loss: 0.7068 - val_accuracy: 0.8944\n",
      "Epoch 54/100\n",
      "221/221 [==============================] - 0s 1ms/step - loss: 0.0939 - accuracy: 0.9748 - val_loss: 0.7660 - val_accuracy: 0.8715\n",
      "Epoch 55/100\n",
      "221/221 [==============================] - 0s 1ms/step - loss: 0.0619 - accuracy: 0.9808 - val_loss: 0.7052 - val_accuracy: 0.8906\n",
      "Epoch 56/100\n",
      "221/221 [==============================] - 0s 1ms/step - loss: 0.0441 - accuracy: 0.9870 - val_loss: 0.6565 - val_accuracy: 0.8855\n",
      "Epoch 57/100\n",
      "221/221 [==============================] - 0s 1ms/step - loss: 0.0208 - accuracy: 0.9924 - val_loss: 0.7305 - val_accuracy: 0.8842\n"
     ]
    },
    {
     "name": "stdout",
     "output_type": "stream",
     "text": [
      "Epoch 58/100\n",
      "221/221 [==============================] - 0s 1ms/step - loss: 0.0413 - accuracy: 0.9876 - val_loss: 0.8845 - val_accuracy: 0.8715\n",
      "Epoch 59/100\n",
      "221/221 [==============================] - 0s 1ms/step - loss: 0.0958 - accuracy: 0.9726 - val_loss: 0.7195 - val_accuracy: 0.8817\n",
      "Epoch 60/100\n",
      "221/221 [==============================] - 0s 1ms/step - loss: 0.1133 - accuracy: 0.9659 - val_loss: 0.7044 - val_accuracy: 0.8842\n",
      "Epoch 61/100\n",
      "221/221 [==============================] - 0s 1ms/step - loss: 0.1023 - accuracy: 0.9717 - val_loss: 0.7270 - val_accuracy: 0.9020\n",
      "Epoch 62/100\n",
      "221/221 [==============================] - 0s 1ms/step - loss: 0.0645 - accuracy: 0.9816 - val_loss: 0.8354 - val_accuracy: 0.8779\n",
      "Epoch 63/100\n",
      "221/221 [==============================] - 0s 1ms/step - loss: 0.0716 - accuracy: 0.9794 - val_loss: 0.6862 - val_accuracy: 0.8957\n",
      "Epoch 64/100\n",
      "221/221 [==============================] - 0s 1ms/step - loss: 0.0722 - accuracy: 0.9809 - val_loss: 0.8478 - val_accuracy: 0.8855\n",
      "Epoch 65/100\n",
      "221/221 [==============================] - 0s 1ms/step - loss: 0.0682 - accuracy: 0.9816 - val_loss: 0.8044 - val_accuracy: 0.8779\n",
      "Epoch 66/100\n",
      "221/221 [==============================] - 0s 1ms/step - loss: 0.0526 - accuracy: 0.9852 - val_loss: 0.8167 - val_accuracy: 0.8906\n",
      "Epoch 67/100\n",
      "221/221 [==============================] - 0s 1ms/step - loss: 0.0373 - accuracy: 0.9876 - val_loss: 0.7198 - val_accuracy: 0.8944\n",
      "Epoch 68/100\n",
      "221/221 [==============================] - 0s 1ms/step - loss: 0.0959 - accuracy: 0.9799 - val_loss: 0.9604 - val_accuracy: 0.8766\n",
      "Epoch 69/100\n",
      "221/221 [==============================] - 0s 1ms/step - loss: 0.1166 - accuracy: 0.9707 - val_loss: 0.8017 - val_accuracy: 0.8868\n",
      "Epoch 70/100\n",
      "221/221 [==============================] - 0s 1ms/step - loss: 0.0482 - accuracy: 0.9835 - val_loss: 0.8377 - val_accuracy: 0.9008\n",
      "Epoch 71/100\n",
      "221/221 [==============================] - 0s 1ms/step - loss: 0.0123 - accuracy: 0.9955 - val_loss: 0.7755 - val_accuracy: 0.9071\n",
      "Epoch 72/100\n",
      "221/221 [==============================] - 0s 1ms/step - loss: 0.0059 - accuracy: 0.9980 - val_loss: 0.7945 - val_accuracy: 0.9059\n",
      "Epoch 73/100\n",
      "221/221 [==============================] - 0s 1ms/step - loss: 0.0050 - accuracy: 0.9976 - val_loss: 0.7577 - val_accuracy: 0.9109\n",
      "Epoch 74/100\n",
      "221/221 [==============================] - 0s 1ms/step - loss: 0.0046 - accuracy: 0.9976 - val_loss: 0.7862 - val_accuracy: 0.9071\n",
      "Epoch 75/100\n",
      "221/221 [==============================] - 0s 1ms/step - loss: 0.0049 - accuracy: 0.9979 - val_loss: 0.7773 - val_accuracy: 0.9097\n",
      "Epoch 76/100\n",
      "221/221 [==============================] - 0s 1ms/step - loss: 0.0048 - accuracy: 0.9976 - val_loss: 0.7729 - val_accuracy: 0.9084\n",
      "Epoch 77/100\n",
      "221/221 [==============================] - 0s 1ms/step - loss: 0.0048 - accuracy: 0.9975 - val_loss: 0.7604 - val_accuracy: 0.9097\n",
      "Epoch 78/100\n",
      "221/221 [==============================] - 0s 1ms/step - loss: 0.0044 - accuracy: 0.9976 - val_loss: 0.7501 - val_accuracy: 0.9084\n",
      "Epoch 79/100\n",
      "221/221 [==============================] - 0s 1ms/step - loss: 0.0118 - accuracy: 0.9966 - val_loss: 0.7841 - val_accuracy: 0.9020\n",
      "Epoch 80/100\n",
      "221/221 [==============================] - 0s 1ms/step - loss: 0.4231 - accuracy: 0.8973 - val_loss: 0.8184 - val_accuracy: 0.8524\n",
      "Epoch 81/100\n",
      "221/221 [==============================] - 0s 1ms/step - loss: 0.1321 - accuracy: 0.9618 - val_loss: 0.8119 - val_accuracy: 0.8957\n",
      "Epoch 82/100\n",
      "221/221 [==============================] - 0s 1ms/step - loss: 0.0712 - accuracy: 0.9852 - val_loss: 1.2890 - val_accuracy: 0.8982\n",
      "Epoch 83/100\n",
      "221/221 [==============================] - 0s 1ms/step - loss: 0.0825 - accuracy: 0.9832 - val_loss: 0.7406 - val_accuracy: 0.9046\n",
      "Epoch 84/100\n",
      "221/221 [==============================] - 0s 1ms/step - loss: 0.0175 - accuracy: 0.9939 - val_loss: 0.7348 - val_accuracy: 0.8919\n",
      "Epoch 85/100\n",
      "221/221 [==============================] - 0s 1ms/step - loss: 0.0168 - accuracy: 0.9955 - val_loss: 0.7039 - val_accuracy: 0.9059\n",
      "Epoch 86/100\n",
      "221/221 [==============================] - 0s 1ms/step - loss: 0.0300 - accuracy: 0.9914 - val_loss: 0.8031 - val_accuracy: 0.8919\n",
      "Epoch 87/100\n",
      "221/221 [==============================] - 0s 1ms/step - loss: 0.0609 - accuracy: 0.9808 - val_loss: 0.8750 - val_accuracy: 0.8804\n",
      "Epoch 88/100\n",
      "221/221 [==============================] - 0s 1ms/step - loss: 0.0755 - accuracy: 0.9778 - val_loss: 0.8420 - val_accuracy: 0.8715\n",
      "Epoch 89/100\n",
      "221/221 [==============================] - 0s 1ms/step - loss: 0.0637 - accuracy: 0.9813 - val_loss: 0.8157 - val_accuracy: 0.8969\n",
      "Epoch 90/100\n",
      "221/221 [==============================] - 0s 1ms/step - loss: 0.0436 - accuracy: 0.9861 - val_loss: 1.0642 - val_accuracy: 0.8791\n",
      "Epoch 91/100\n",
      "221/221 [==============================] - 0s 1ms/step - loss: 0.0849 - accuracy: 0.9796 - val_loss: 0.8842 - val_accuracy: 0.8893\n",
      "Epoch 92/100\n",
      "221/221 [==============================] - 0s 1ms/step - loss: 0.0831 - accuracy: 0.9772 - val_loss: 0.7913 - val_accuracy: 0.8944\n",
      "Epoch 93/100\n",
      "221/221 [==============================] - 0s 1ms/step - loss: 0.0708 - accuracy: 0.9791 - val_loss: 0.9265 - val_accuracy: 0.8830\n",
      "Epoch 94/100\n",
      "221/221 [==============================] - 0s 1ms/step - loss: 0.0346 - accuracy: 0.9897 - val_loss: 0.8099 - val_accuracy: 0.9033\n",
      "Epoch 95/100\n",
      "221/221 [==============================] - 0s 1ms/step - loss: 0.0248 - accuracy: 0.9895 - val_loss: 0.7768 - val_accuracy: 0.9059\n",
      "Epoch 96/100\n",
      "221/221 [==============================] - 0s 1ms/step - loss: 0.0079 - accuracy: 0.9966 - val_loss: 0.7948 - val_accuracy: 0.9059\n",
      "Epoch 97/100\n",
      "221/221 [==============================] - 0s 1ms/step - loss: 0.0046 - accuracy: 0.9977 - val_loss: 0.7771 - val_accuracy: 0.9097\n",
      "Epoch 98/100\n",
      "221/221 [==============================] - 0s 1ms/step - loss: 0.0050 - accuracy: 0.9975 - val_loss: 0.7590 - val_accuracy: 0.9148\n",
      "Epoch 99/100\n",
      "221/221 [==============================] - 0s 1ms/step - loss: 0.0043 - accuracy: 0.9975 - val_loss: 0.7536 - val_accuracy: 0.9173\n",
      "Epoch 100/100\n",
      "221/221 [==============================] - 0s 1ms/step - loss: 0.0060 - accuracy: 0.9972 - val_loss: 0.7714 - val_accuracy: 0.9122\n"
     ]
    }
   ],
   "source": [
    "history=model.fit(X_train, y_train, epochs=100, validation_data=(X_val, y_val))"
   ]
  },
  {
   "cell_type": "code",
   "execution_count": 61,
   "id": "74368518",
   "metadata": {},
   "outputs": [
    {
     "data": {
      "image/png": "[encoded data removed]",
      "text/plain": [
       "<Figure size 432x288 with 1 Axes>"
      ]
     },
     "metadata": {
      "needs_background": "light"
     },
     "output_type": "display_data"
    },
    {
     "data": {
      "image/png": "[encoded data removed]",
      "text/plain": [
       "<Figure size 432x288 with 1 Axes>"
      ]
     },
     "metadata": {
      "needs_background": "light"
     },
     "output_type": "display_data"
    }
   ],
   "source": [
    "import matplotlib.pyplot as plt\n",
    "\n",
    "# Plot the convergence graph for loss\n",
    "plt.plot(history.history['loss'])\n",
    "plt.plot(history.history['val_loss'])\n",
    "plt.title('Model Loss')\n",
    "plt.ylabel('Loss')\n",
    "plt.xlabel('Epoch')\n",
    "plt.legend(['Train', 'Validation'], loc='upper right')\n",
    "plt.show()\n",
    "\n",
    "# Plot the convergence graph for accuracy\n",
    "plt.plot(history.history['accuracy'])\n",
    "plt.plot(history.history['val_accuracy'])\n",
    "plt.title('Model Accuracy')\n",
    "plt.ylabel('Accuracy')\n",
    "plt.xlabel('Epoch')\n",
    "plt.legend(['Train', 'Validation'], loc='lower right')\n",
    "plt.show()"
   ]
  },
  {
   "cell_type": "code",
   "execution_count": 62,
   "id": "5acbf346",
   "metadata": {},
   "outputs": [
    {
     "name": "stdout",
     "output_type": "stream",
     "text": [
      "[[97  0  2  1  0  0  0  0  0  0]\n",
      " [ 1 33  0  0  0  0  2  2  2  3]\n",
      " [ 0  1 88  0  1  1  0  1  3  5]\n",
      " [ 1  2  8 82  2  0  2  0  3  0]\n",
      " [ 0  0  0  0 94  0  0  3  3  0]\n",
      " [ 0  0  0  1  0 98  0  0  0  1]\n",
      " [ 1  0  0  1  1  0 35  0  0  0]\n",
      " [ 0  1  0  0  3  0  0 96  0  0]\n",
      " [ 0  0  1  0  0  0  0  0 89  3]\n",
      " [ 2  0  2  1  1  0  0  1  1 92]]\n"
     ]
    }
   ],
   "source": [
    "from sklearn.metrics import classification_report,confusion_matrix\n",
    "pred = model.predict(X_test)\n",
    "# one hot encoded multiclass labels so converting to argmax\n",
    "arg_pred = np.argmax(pred, axis=1)\n",
    "arg_true = np.argmax(y_test, axis=1)\n",
    "print(confusion_matrix(arg_true, arg_pred))"
   ]
  },
  {
   "cell_type": "code",
   "execution_count": 63,
   "id": "aead5a89",
   "metadata": {},
   "outputs": [
    {
     "name": "stdout",
     "output_type": "stream",
     "text": [
      "              precision    recall  f1-score   support\n",
      "\n",
      "           0       0.95      0.97      0.96       100\n",
      "           1       0.89      0.77      0.82        43\n",
      "           2       0.87      0.88      0.88       100\n",
      "           3       0.95      0.82      0.88       100\n",
      "           4       0.92      0.94      0.93       100\n",
      "           5       0.99      0.98      0.98       100\n",
      "           6       0.90      0.92      0.91        38\n",
      "           7       0.93      0.96      0.95       100\n",
      "           8       0.88      0.96      0.92        93\n",
      "           9       0.88      0.92      0.90       100\n",
      "\n",
      "    accuracy                           0.92       874\n",
      "   macro avg       0.92      0.91      0.91       874\n",
      "weighted avg       0.92      0.92      0.92       874\n",
      "\n"
     ]
    }
   ],
   "source": [
    "print(classification_report(arg_true, arg_pred))"
   ]
  },
  {
   "cell_type": "code",
   "execution_count": 64,
   "id": "8fb10b1e",
   "metadata": {},
   "outputs": [],
   "source": [
    "model.save('ann_tuned.h5')"
   ]
  },
  {
   "cell_type": "markdown",
   "id": "666699ba",
   "metadata": {},
   "source": [
    "#### Model using PCA components"
   ]
  },
  {
   "cell_type": "markdown",
   "id": "e3829cc5",
   "metadata": {},
   "source": [
    "Now lets train our model on the pca components that we created earlier. Although 90% of information is available in the 3 pca we can not expect the model to perform very well as using pca usually reduces the performance of the model. "
   ]
  },
  {
   "cell_type": "code",
   "execution_count": 10,
   "id": "4503749c",
   "metadata": {},
   "outputs": [
    {
     "name": "stdout",
     "output_type": "stream",
     "text": [
      "(7072, 3) (7072, 10)\n",
      "(786, 3) (786, 10)\n",
      "(874, 3) (874, 10)\n"
     ]
    }
   ],
   "source": [
    "X, X_test, y, y_test = train_test_split(pca_array, label_array, test_size=0.1, random_state=42, stratify=label_array)\n",
    "\n",
    "X_train, X_val, y_train, y_val = train_test_split(X, y, test_size=0.1, random_state=42, stratify=y)\n",
    "\n",
    "print(X_train.shape, y_train.shape)\n",
    "print(X_val.shape, y_val.shape)\n",
    "print(X_test.shape, y_test.shape)"
   ]
  },
  {
   "cell_type": "markdown",
   "id": "067d0e91",
   "metadata": {},
   "source": [
    "We will go straight into using the random search method to find out how it performs on various ANN models. At the end we can see the results and compare to our intial hypothesis."
   ]
  },
  {
   "cell_type": "code",
   "execution_count": 11,
   "id": "501fb3e9",
   "metadata": {},
   "outputs": [],
   "source": [
    "def build_model(hp):\n",
    "    model = keras.Sequential()\n",
    "    # Input layer\n",
    "    model.add(layers.Dense(units=hp.Int('units_input', min_value=100, max_value=500, step=16), input_dim=3, activation='relu'))\n",
    "    # Hidden layers\n",
    "    for i in range(hp.Int('num_layers', 1, 5)):\n",
    "        model.add(layers.Dense(units=hp.Int('units_' + str(i), min_value=100, max_value=500, step=16), activation='relu'))\n",
    "    # Output layer\n",
    "    model.add(layers.Dense(units=10, activation='softmax'))\n",
    "    \n",
    "    # Compile the model\n",
    "    model.compile(optimizer=keras.optimizers.Adam(hp.Choice('learning_rate', values=[1e-2, 1e-3, 1e-4])),\n",
    "                  loss='categorical_crossentropy',\n",
    "                  metrics=['accuracy'])\n",
    "    return model\n"
   ]
  },
  {
   "cell_type": "markdown",
   "id": "102ab792",
   "metadata": {},
   "source": [
    "Same as before, we will be doing 10 trails with 100 epocs to have an idea how the model performs."
   ]
  },
  {
   "cell_type": "code",
   "execution_count": 14,
   "id": "c079e21b",
   "metadata": {
    "collapsed": true
   },
   "outputs": [
    {
     "name": "stderr",
     "output_type": "stream",
     "text": [
      "2023-04-08 01:03:01.064217: I tensorflow/stream_executor/platform/default/dso_loader.cc:44] Successfully opened dynamic library libcuda.so.1\n",
      "2023-04-08 01:03:01.089491: I tensorflow/stream_executor/cuda/cuda_gpu_executor.cc:981] successful NUMA node read from SysFS had negative value (-1), but there must be at least one NUMA node, so returning NUMA node zero\n",
      "2023-04-08 01:03:01.089944: I tensorflow/core/common_runtime/gpu/gpu_device.cc:1561] Found device 0 with properties: \n",
      "pciBusID: 0000:01:00.0 name: NVIDIA GeForce RTX 3090 computeCapability: 8.6\n",
      "coreClock: 1.755GHz coreCount: 82 deviceMemorySize: 23.70GiB deviceMemoryBandwidth: 871.81GiB/s\n",
      "2023-04-08 01:03:01.090055: I tensorflow/stream_executor/platform/default/dso_loader.cc:44] Successfully opened dynamic library libcudart.so.10.1\n",
      "2023-04-08 01:03:01.090851: I tensorflow/stream_executor/platform/default/dso_loader.cc:44] Successfully opened dynamic library libcublas.so.10\n",
      "2023-04-08 01:03:01.091622: I tensorflow/stream_executor/platform/default/dso_loader.cc:44] Successfully opened dynamic library libcufft.so.10\n",
      "2023-04-08 01:03:01.091755: I tensorflow/stream_executor/platform/default/dso_loader.cc:44] Successfully opened dynamic library libcurand.so.10\n",
      "2023-04-08 01:03:01.092542: I tensorflow/stream_executor/platform/default/dso_loader.cc:44] Successfully opened dynamic library libcusolver.so.10\n",
      "2023-04-08 01:03:01.092940: I tensorflow/stream_executor/platform/default/dso_loader.cc:44] Successfully opened dynamic library libcusparse.so.10\n",
      "2023-04-08 01:03:01.094947: I tensorflow/stream_executor/platform/default/dso_loader.cc:44] Successfully opened dynamic library libcudnn.so.7\n",
      "2023-04-08 01:03:01.095020: I tensorflow/stream_executor/cuda/cuda_gpu_executor.cc:981] successful NUMA node read from SysFS had negative value (-1), but there must be at least one NUMA node, so returning NUMA node zero\n",
      "2023-04-08 01:03:01.095501: I tensorflow/stream_executor/cuda/cuda_gpu_executor.cc:981] successful NUMA node read from SysFS had negative value (-1), but there must be at least one NUMA node, so returning NUMA node zero\n",
      "2023-04-08 01:03:01.095912: I tensorflow/core/common_runtime/gpu/gpu_device.cc:1703] Adding visible gpu devices: 0\n",
      "2023-04-08 01:03:01.096078: I tensorflow/core/platform/cpu_feature_guard.cc:143] Your CPU supports instructions that this TensorFlow binary was not compiled to use: SSE4.1 SSE4.2 AVX AVX2 FMA\n",
      "2023-04-08 01:03:01.117949: I tensorflow/core/platform/profile_utils/cpu_utils.cc:102] CPU Frequency: 3699850000 Hz\n",
      "2023-04-08 01:03:01.118708: I tensorflow/compiler/xla/service/service.cc:168] XLA service 0x55acb47a2bb0 initialized for platform Host (this does not guarantee that XLA will be used). Devices:\n",
      "2023-04-08 01:03:01.118723: I tensorflow/compiler/xla/service/service.cc:176]   StreamExecutor device (0): Host, Default Version\n",
      "2023-04-08 01:03:01.184341: I tensorflow/stream_executor/cuda/cuda_gpu_executor.cc:981] successful NUMA node read from SysFS had negative value (-1), but there must be at least one NUMA node, so returning NUMA node zero\n",
      "2023-04-08 01:03:01.184803: I tensorflow/compiler/xla/service/service.cc:168] XLA service 0x55acb3338fd0 initialized for platform CUDA (this does not guarantee that XLA will be used). Devices:\n",
      "2023-04-08 01:03:01.184813: I tensorflow/compiler/xla/service/service.cc:176]   StreamExecutor device (0): NVIDIA GeForce RTX 3090, Compute Capability 8.6\n",
      "2023-04-08 01:03:01.184933: I tensorflow/stream_executor/cuda/cuda_gpu_executor.cc:981] successful NUMA node read from SysFS had negative value (-1), but there must be at least one NUMA node, so returning NUMA node zero\n",
      "2023-04-08 01:03:01.185341: I tensorflow/core/common_runtime/gpu/gpu_device.cc:1561] Found device 0 with properties: \n",
      "pciBusID: 0000:01:00.0 name: NVIDIA GeForce RTX 3090 computeCapability: 8.6\n",
      "coreClock: 1.755GHz coreCount: 82 deviceMemorySize: 23.70GiB deviceMemoryBandwidth: 871.81GiB/s\n",
      "2023-04-08 01:03:01.185367: I tensorflow/stream_executor/platform/default/dso_loader.cc:44] Successfully opened dynamic library libcudart.so.10.1\n",
      "2023-04-08 01:03:01.185378: I tensorflow/stream_executor/platform/default/dso_loader.cc:44] Successfully opened dynamic library libcublas.so.10\n",
      "2023-04-08 01:03:01.185388: I tensorflow/stream_executor/platform/default/dso_loader.cc:44] Successfully opened dynamic library libcufft.so.10\n",
      "2023-04-08 01:03:01.185399: I tensorflow/stream_executor/platform/default/dso_loader.cc:44] Successfully opened dynamic library libcurand.so.10\n",
      "2023-04-08 01:03:01.185408: I tensorflow/stream_executor/platform/default/dso_loader.cc:44] Successfully opened dynamic library libcusolver.so.10\n",
      "2023-04-08 01:03:01.185418: I tensorflow/stream_executor/platform/default/dso_loader.cc:44] Successfully opened dynamic library libcusparse.so.10\n",
      "2023-04-08 01:03:01.185427: I tensorflow/stream_executor/platform/default/dso_loader.cc:44] Successfully opened dynamic library libcudnn.so.7\n",
      "2023-04-08 01:03:01.185464: I tensorflow/stream_executor/cuda/cuda_gpu_executor.cc:981] successful NUMA node read from SysFS had negative value (-1), but there must be at least one NUMA node, so returning NUMA node zero\n",
      "2023-04-08 01:03:01.185892: I tensorflow/stream_executor/cuda/cuda_gpu_executor.cc:981] successful NUMA node read from SysFS had negative value (-1), but there must be at least one NUMA node, so returning NUMA node zero\n",
      "2023-04-08 01:03:01.186284: I tensorflow/core/common_runtime/gpu/gpu_device.cc:1703] Adding visible gpu devices: 0\n",
      "2023-04-08 01:03:01.186305: I tensorflow/stream_executor/platform/default/dso_loader.cc:44] Successfully opened dynamic library libcudart.so.10.1\n",
      "2023-04-08 01:03:01.186791: I tensorflow/core/common_runtime/gpu/gpu_device.cc:1102] Device interconnect StreamExecutor with strength 1 edge matrix:\n",
      "2023-04-08 01:03:01.186797: I tensorflow/core/common_runtime/gpu/gpu_device.cc:1108]      0 \n",
      "2023-04-08 01:03:01.186800: I tensorflow/core/common_runtime/gpu/gpu_device.cc:1121] 0:   N \n",
      "2023-04-08 01:03:01.186857: I tensorflow/stream_executor/cuda/cuda_gpu_executor.cc:981] successful NUMA node read from SysFS had negative value (-1), but there must be at least one NUMA node, so returning NUMA node zero\n",
      "2023-04-08 01:03:01.187284: I tensorflow/stream_executor/cuda/cuda_gpu_executor.cc:981] successful NUMA node read from SysFS had negative value (-1), but there must be at least one NUMA node, so returning NUMA node zero\n",
      "2023-04-08 01:03:01.187731: I tensorflow/core/common_runtime/gpu/gpu_device.cc:1247] Created TensorFlow device (/job:localhost/replica:0/task:0/device:GPU:0 with 21669 MB memory) -> physical GPU (device: 0, name: NVIDIA GeForce RTX 3090, pci bus id: 0000:01:00.0, compute capability: 8.6)\n"
     ]
    }
   ],
   "source": [
    "tuner = RandomSearch(\n",
    "    build_model,\n",
    "    objective='val_accuracy',\n",
    "    max_trials=10,\n",
    "    executions_per_trial=3,\n",
    "    directory='pca',\n",
    "    project_name='SoundClassification')\n"
   ]
  },
  {
   "cell_type": "code",
   "execution_count": 15,
   "id": "acc69705",
   "metadata": {
    "scrolled": true
   },
   "outputs": [
    {
     "name": "stdout",
     "output_type": "stream",
     "text": [
      "Trial 10 Complete [00h 01m 08s]\n",
      "val_accuracy: 0.5313825209935507\n",
      "\n",
      "Best val_accuracy So Far: 0.5606446266174316\n",
      "Total elapsed time: 00h 14m 39s\n",
      "INFO:tensorflow:Oracle triggered exit\n"
     ]
    }
   ],
   "source": [
    "history_tuned = tuner.search(X_train, y_train, epochs=100, validation_data=(X_val, y_val))\n"
   ]
  },
  {
   "cell_type": "markdown",
   "id": "0da90f9e",
   "metadata": {},
   "source": [
    "So we can see that none of the 10 trials gave much promising results.Even if we train the best model for a 100 more epocs the validation loss seems to increase and the validation accuracy does notincrease more than 50-55 percent. This is all observable in the graphs below. This is because the data required to train the model is not enough for it to learn all the features and it starts to over fit to the training instances rather than generalizing. That is why it starts to give good accuracy and loss after some time on training data but not on the validation data. If we test the model on test data we come to see that the metrics are extreamely poor as compared to the model that is trained on the complete dataset."
   ]
  },
  {
   "cell_type": "code",
   "execution_count": 16,
   "id": "78db3041",
   "metadata": {},
   "outputs": [],
   "source": [
    "best_hps = tuner.get_best_hyperparameters(num_trials=1)[0]\n"
   ]
  },
  {
   "cell_type": "code",
   "execution_count": 17,
   "id": "8f0c994d",
   "metadata": {
    "scrolled": false
   },
   "outputs": [
    {
     "name": "stdout",
     "output_type": "stream",
     "text": [
      "Results summary\n",
      "Results in pca/SoundClassification\n",
      "Showing 10 best trials\n",
      "Objective(name=\"val_accuracy\", direction=\"max\")\n",
      "\n",
      "Trial 05 summary\n",
      "Hyperparameters:\n",
      "units_input: 244\n",
      "num_layers: 4\n",
      "units_0: 212\n",
      "learning_rate: 0.001\n",
      "units_1: 436\n",
      "units_2: 260\n",
      "units_3: 100\n",
      "Score: 0.5606446266174316\n",
      "\n",
      "Trial 02 summary\n",
      "Hyperparameters:\n",
      "units_input: 148\n",
      "num_layers: 3\n",
      "units_0: 132\n",
      "learning_rate: 0.001\n",
      "units_1: 228\n",
      "units_2: 388\n",
      "Score: 0.558948278427124\n",
      "\n",
      "Trial 04 summary\n",
      "Hyperparameters:\n",
      "units_input: 308\n",
      "num_layers: 2\n",
      "units_0: 292\n",
      "learning_rate: 0.001\n",
      "units_1: 148\n",
      "units_2: 132\n",
      "Score: 0.5491942365964254\n",
      "\n",
      "Trial 07 summary\n",
      "Hyperparameters:\n",
      "units_input: 116\n",
      "num_layers: 4\n",
      "units_0: 292\n",
      "learning_rate: 0.0001\n",
      "units_1: 468\n",
      "units_2: 324\n",
      "units_3: 356\n",
      "units_4: 212\n",
      "Score: 0.5351993242899576\n",
      "\n",
      "Trial 09 summary\n",
      "Hyperparameters:\n",
      "units_input: 484\n",
      "num_layers: 1\n",
      "units_0: 260\n",
      "learning_rate: 0.001\n",
      "units_1: 244\n",
      "units_2: 452\n",
      "units_3: 436\n",
      "units_4: 388\n",
      "Score: 0.5313825209935507\n",
      "\n",
      "Trial 08 summary\n",
      "Hyperparameters:\n",
      "units_input: 308\n",
      "num_layers: 3\n",
      "units_0: 180\n",
      "learning_rate: 0.0001\n",
      "units_1: 212\n",
      "units_2: 180\n",
      "units_3: 164\n",
      "units_4: 468\n",
      "Score: 0.5016963481903076\n",
      "\n",
      "Trial 03 summary\n",
      "Hyperparameters:\n",
      "units_input: 404\n",
      "num_layers: 1\n",
      "units_0: 308\n",
      "learning_rate: 0.0001\n",
      "units_1: 356\n",
      "units_2: 436\n",
      "Score: 0.4707379142443339\n",
      "\n",
      "Trial 00 summary\n",
      "Hyperparameters:\n",
      "units_input: 276\n",
      "num_layers: 3\n",
      "units_0: 388\n",
      "learning_rate: 0.01\n",
      "units_1: 100\n",
      "units_2: 100\n",
      "Score: 0.36853264768918353\n",
      "\n",
      "Trial 06 summary\n",
      "Hyperparameters:\n",
      "units_input: 132\n",
      "num_layers: 5\n",
      "units_0: 452\n",
      "learning_rate: 0.01\n",
      "units_1: 132\n",
      "units_2: 484\n",
      "units_3: 244\n",
      "units_4: 100\n",
      "Score: 0.32824426889419556\n",
      "\n",
      "Trial 01 summary\n",
      "Hyperparameters:\n",
      "units_input: 308\n",
      "num_layers: 3\n",
      "units_0: 324\n",
      "learning_rate: 0.01\n",
      "units_1: 468\n",
      "units_2: 212\n",
      "Score: 0.3206106821695964\n"
     ]
    }
   ],
   "source": [
    "tuner.results_summary()"
   ]
  },
  {
   "cell_type": "code",
   "execution_count": 18,
   "id": "3fab32b8",
   "metadata": {},
   "outputs": [],
   "source": [
    "model_pca = tuner.hypermodel.build(best_hps)"
   ]
  },
  {
   "cell_type": "code",
   "execution_count": 19,
   "id": "43185cea",
   "metadata": {},
   "outputs": [
    {
     "name": "stdout",
     "output_type": "stream",
     "text": [
      "Model: \"sequential_1\"\n",
      "_________________________________________________________________\n",
      "Layer (type)                 Output Shape              Param #   \n",
      "=================================================================\n",
      "dense_3 (Dense)              (None, 244)               976       \n",
      "_________________________________________________________________\n",
      "dense_4 (Dense)              (None, 212)               51940     \n",
      "_________________________________________________________________\n",
      "dense_5 (Dense)              (None, 436)               92868     \n",
      "_________________________________________________________________\n",
      "dense_6 (Dense)              (None, 260)               113620    \n",
      "_________________________________________________________________\n",
      "dense_7 (Dense)              (None, 100)               26100     \n",
      "_________________________________________________________________\n",
      "dense_8 (Dense)              (None, 10)                1010      \n",
      "=================================================================\n",
      "Total params: 286,514\n",
      "Trainable params: 286,514\n",
      "Non-trainable params: 0\n",
      "_________________________________________________________________\n"
     ]
    }
   ],
   "source": [
    "model_pca.summary()"
   ]
  },
  {
   "cell_type": "code",
   "execution_count": 21,
   "id": "7d85a7b1",
   "metadata": {},
   "outputs": [],
   "source": [
    "from tensorflow.keras import optimizers\n",
    "\n",
    "model_pca.compile(loss='categorical_crossentropy', optimizer = optimizers.Adam(lr=0.001), metrics=['accuracy'])\n"
   ]
  },
  {
   "cell_type": "code",
   "execution_count": 22,
   "id": "242c5377",
   "metadata": {
    "scrolled": true
   },
   "outputs": [
    {
     "name": "stdout",
     "output_type": "stream",
     "text": [
      "Epoch 1/200\n",
      "221/221 [==============================] - 0s 2ms/step - loss: 1.9296 - accuracy: 0.3050 - val_loss: 1.7663 - val_accuracy: 0.3677\n",
      "Epoch 2/200\n",
      "221/221 [==============================] - 0s 1ms/step - loss: 1.7334 - accuracy: 0.3539 - val_loss: 1.7488 - val_accuracy: 0.3728\n",
      "Epoch 3/200\n",
      "221/221 [==============================] - 0s 1ms/step - loss: 1.6959 - accuracy: 0.3644 - val_loss: 1.7159 - val_accuracy: 0.3957\n",
      "Epoch 4/200\n",
      "221/221 [==============================] - 0s 1ms/step - loss: 1.6706 - accuracy: 0.3760 - val_loss: 1.7074 - val_accuracy: 0.3880\n",
      "Epoch 5/200\n",
      "221/221 [==============================] - 0s 1ms/step - loss: 1.6388 - accuracy: 0.3999 - val_loss: 1.6600 - val_accuracy: 0.4059\n",
      "Epoch 6/200\n",
      "221/221 [==============================] - 0s 1ms/step - loss: 1.6087 - accuracy: 0.4033 - val_loss: 1.6443 - val_accuracy: 0.4071\n",
      "Epoch 7/200\n",
      "221/221 [==============================] - 0s 1ms/step - loss: 1.5811 - accuracy: 0.4053 - val_loss: 1.7026 - val_accuracy: 0.3804\n",
      "Epoch 8/200\n",
      "221/221 [==============================] - 0s 1ms/step - loss: 1.5733 - accuracy: 0.4174 - val_loss: 1.5973 - val_accuracy: 0.4237\n",
      "Epoch 9/200\n",
      "221/221 [==============================] - 0s 1ms/step - loss: 1.5557 - accuracy: 0.4260 - val_loss: 1.6015 - val_accuracy: 0.4211\n",
      "Epoch 10/200\n",
      "221/221 [==============================] - 0s 1ms/step - loss: 1.5443 - accuracy: 0.4285 - val_loss: 1.5691 - val_accuracy: 0.4148\n",
      "Epoch 11/200\n",
      "221/221 [==============================] - 0s 1ms/step - loss: 1.5235 - accuracy: 0.4409 - val_loss: 1.5909 - val_accuracy: 0.4300\n",
      "Epoch 12/200\n",
      "221/221 [==============================] - 0s 1ms/step - loss: 1.5183 - accuracy: 0.4409 - val_loss: 1.5661 - val_accuracy: 0.4377\n",
      "Epoch 13/200\n",
      "221/221 [==============================] - 0s 1ms/step - loss: 1.4895 - accuracy: 0.4471 - val_loss: 1.5677 - val_accuracy: 0.4351\n",
      "Epoch 14/200\n",
      "221/221 [==============================] - 0s 1ms/step - loss: 1.4818 - accuracy: 0.4577 - val_loss: 1.5388 - val_accuracy: 0.4567\n",
      "Epoch 15/200\n",
      "221/221 [==============================] - 0s 1ms/step - loss: 1.4680 - accuracy: 0.4583 - val_loss: 1.5481 - val_accuracy: 0.4669\n",
      "Epoch 16/200\n",
      "221/221 [==============================] - 0s 1ms/step - loss: 1.4512 - accuracy: 0.4634 - val_loss: 1.5559 - val_accuracy: 0.4338\n",
      "Epoch 17/200\n",
      "221/221 [==============================] - 0s 1ms/step - loss: 1.4399 - accuracy: 0.4720 - val_loss: 1.4932 - val_accuracy: 0.4567\n",
      "Epoch 18/200\n",
      "221/221 [==============================] - 0s 1ms/step - loss: 1.4393 - accuracy: 0.4704 - val_loss: 1.5135 - val_accuracy: 0.4555\n",
      "Epoch 19/200\n",
      "221/221 [==============================] - 0s 1ms/step - loss: 1.4185 - accuracy: 0.4813 - val_loss: 1.5170 - val_accuracy: 0.4631\n",
      "Epoch 20/200\n",
      "221/221 [==============================] - 0s 1ms/step - loss: 1.4031 - accuracy: 0.4880 - val_loss: 1.5522 - val_accuracy: 0.4504\n",
      "Epoch 21/200\n",
      "221/221 [==============================] - 0s 1ms/step - loss: 1.3888 - accuracy: 0.4911 - val_loss: 1.4938 - val_accuracy: 0.4606\n",
      "Epoch 22/200\n",
      "221/221 [==============================] - 0s 1ms/step - loss: 1.3826 - accuracy: 0.4941 - val_loss: 1.4936 - val_accuracy: 0.4669\n",
      "Epoch 23/200\n",
      "221/221 [==============================] - 0s 1ms/step - loss: 1.3745 - accuracy: 0.4986 - val_loss: 1.4661 - val_accuracy: 0.4707\n",
      "Epoch 24/200\n",
      "221/221 [==============================] - 0s 1ms/step - loss: 1.3544 - accuracy: 0.5028 - val_loss: 1.4817 - val_accuracy: 0.4809\n",
      "Epoch 25/200\n",
      "221/221 [==============================] - 0s 1ms/step - loss: 1.3375 - accuracy: 0.5017 - val_loss: 1.4314 - val_accuracy: 0.5089\n",
      "Epoch 26/200\n",
      "221/221 [==============================] - 0s 1ms/step - loss: 1.3255 - accuracy: 0.5127 - val_loss: 1.4374 - val_accuracy: 0.4911\n",
      "Epoch 27/200\n",
      "221/221 [==============================] - 0s 1ms/step - loss: 1.3198 - accuracy: 0.5102 - val_loss: 1.4731 - val_accuracy: 0.4949\n",
      "Epoch 28/200\n",
      "221/221 [==============================] - 0s 1ms/step - loss: 1.2976 - accuracy: 0.5184 - val_loss: 1.4163 - val_accuracy: 0.4987\n",
      "Epoch 29/200\n",
      "221/221 [==============================] - 0s 1ms/step - loss: 1.2914 - accuracy: 0.5202 - val_loss: 1.4336 - val_accuracy: 0.4898\n",
      "Epoch 30/200\n",
      "221/221 [==============================] - 0s 1ms/step - loss: 1.2774 - accuracy: 0.5298 - val_loss: 1.4018 - val_accuracy: 0.4962\n",
      "Epoch 31/200\n",
      "221/221 [==============================] - 0s 1ms/step - loss: 1.2542 - accuracy: 0.5396 - val_loss: 1.4061 - val_accuracy: 0.5013\n",
      "Epoch 32/200\n",
      "221/221 [==============================] - 0s 1ms/step - loss: 1.2481 - accuracy: 0.5407 - val_loss: 1.4422 - val_accuracy: 0.4771\n",
      "Epoch 33/200\n",
      "221/221 [==============================] - 0s 1ms/step - loss: 1.2302 - accuracy: 0.5431 - val_loss: 1.4195 - val_accuracy: 0.4898\n",
      "Epoch 34/200\n",
      "221/221 [==============================] - 0s 1ms/step - loss: 1.2245 - accuracy: 0.5474 - val_loss: 1.3979 - val_accuracy: 0.5153\n",
      "Epoch 35/200\n",
      "221/221 [==============================] - 0s 1ms/step - loss: 1.2050 - accuracy: 0.5525 - val_loss: 1.4076 - val_accuracy: 0.5038\n",
      "Epoch 36/200\n",
      "221/221 [==============================] - 0s 1ms/step - loss: 1.1943 - accuracy: 0.5529 - val_loss: 1.3916 - val_accuracy: 0.5204\n",
      "Epoch 37/200\n",
      "221/221 [==============================] - 0s 1ms/step - loss: 1.1845 - accuracy: 0.5553 - val_loss: 1.3839 - val_accuracy: 0.5318\n",
      "Epoch 38/200\n",
      "221/221 [==============================] - 0s 1ms/step - loss: 1.1731 - accuracy: 0.5615 - val_loss: 1.3709 - val_accuracy: 0.5191\n",
      "Epoch 39/200\n",
      "221/221 [==============================] - 0s 1ms/step - loss: 1.1582 - accuracy: 0.5652 - val_loss: 1.4254 - val_accuracy: 0.5000\n",
      "Epoch 40/200\n",
      "221/221 [==============================] - 0s 1ms/step - loss: 1.1540 - accuracy: 0.5734 - val_loss: 1.4180 - val_accuracy: 0.4949\n",
      "Epoch 41/200\n",
      "221/221 [==============================] - 0s 1ms/step - loss: 1.1322 - accuracy: 0.5803 - val_loss: 1.3768 - val_accuracy: 0.5382\n",
      "Epoch 42/200\n",
      "221/221 [==============================] - 0s 1ms/step - loss: 1.1165 - accuracy: 0.5888 - val_loss: 1.4127 - val_accuracy: 0.5140\n",
      "Epoch 43/200\n",
      "221/221 [==============================] - 0s 1ms/step - loss: 1.1218 - accuracy: 0.5833 - val_loss: 1.3978 - val_accuracy: 0.5089\n",
      "Epoch 44/200\n",
      "221/221 [==============================] - 0s 1ms/step - loss: 1.1029 - accuracy: 0.5872 - val_loss: 1.4089 - val_accuracy: 0.5318\n",
      "Epoch 45/200\n",
      "221/221 [==============================] - 0s 1ms/step - loss: 1.0745 - accuracy: 0.5921 - val_loss: 1.3830 - val_accuracy: 0.5407\n",
      "Epoch 46/200\n",
      "221/221 [==============================] - 0s 1ms/step - loss: 1.0728 - accuracy: 0.5922 - val_loss: 1.4237 - val_accuracy: 0.5127\n",
      "Epoch 47/200\n",
      "221/221 [==============================] - 0s 1ms/step - loss: 1.0729 - accuracy: 0.5960 - val_loss: 1.4610 - val_accuracy: 0.5127\n",
      "Epoch 48/200\n",
      "221/221 [==============================] - 0s 1ms/step - loss: 1.0529 - accuracy: 0.6055 - val_loss: 1.3919 - val_accuracy: 0.5318\n",
      "Epoch 49/200\n",
      "221/221 [==============================] - 0s 1ms/step - loss: 1.0454 - accuracy: 0.6015 - val_loss: 1.4485 - val_accuracy: 0.5115\n",
      "Epoch 50/200\n",
      "221/221 [==============================] - 0s 1ms/step - loss: 1.0320 - accuracy: 0.6083 - val_loss: 1.4539 - val_accuracy: 0.5267\n",
      "Epoch 51/200\n",
      "221/221 [==============================] - 0s 1ms/step - loss: 1.0336 - accuracy: 0.6087 - val_loss: 1.4051 - val_accuracy: 0.5407\n",
      "Epoch 52/200\n",
      "221/221 [==============================] - 0s 1ms/step - loss: 1.0042 - accuracy: 0.6199 - val_loss: 1.4169 - val_accuracy: 0.5089\n",
      "Epoch 53/200\n",
      "221/221 [==============================] - 0s 1ms/step - loss: 0.9905 - accuracy: 0.6193 - val_loss: 1.4146 - val_accuracy: 0.5407\n",
      "Epoch 54/200\n",
      "221/221 [==============================] - 0s 1ms/step - loss: 0.9777 - accuracy: 0.6240 - val_loss: 1.4029 - val_accuracy: 0.5382\n",
      "Epoch 55/200\n",
      "221/221 [==============================] - 0s 1ms/step - loss: 0.9882 - accuracy: 0.6257 - val_loss: 1.4365 - val_accuracy: 0.5394\n",
      "Epoch 56/200\n",
      "221/221 [==============================] - 0s 1ms/step - loss: 0.9646 - accuracy: 0.6295 - val_loss: 1.4525 - val_accuracy: 0.5025\n",
      "Epoch 57/200\n",
      "221/221 [==============================] - 0s 1ms/step - loss: 0.9691 - accuracy: 0.6292 - val_loss: 1.5096 - val_accuracy: 0.5191\n"
     ]
    },
    {
     "name": "stdout",
     "output_type": "stream",
     "text": [
      "Epoch 58/200\n",
      "221/221 [==============================] - 0s 1ms/step - loss: 0.9544 - accuracy: 0.6382 - val_loss: 1.5259 - val_accuracy: 0.5127\n",
      "Epoch 59/200\n",
      "221/221 [==============================] - 0s 1ms/step - loss: 0.9414 - accuracy: 0.6370 - val_loss: 1.4336 - val_accuracy: 0.5293\n",
      "Epoch 60/200\n",
      "221/221 [==============================] - 0s 1ms/step - loss: 0.9231 - accuracy: 0.6408 - val_loss: 1.4911 - val_accuracy: 0.5407\n",
      "Epoch 61/200\n",
      "221/221 [==============================] - 0s 1ms/step - loss: 0.9323 - accuracy: 0.6456 - val_loss: 1.4910 - val_accuracy: 0.5204\n",
      "Epoch 62/200\n",
      "221/221 [==============================] - 0s 1ms/step - loss: 0.9242 - accuracy: 0.6425 - val_loss: 1.5304 - val_accuracy: 0.5076\n",
      "Epoch 63/200\n",
      "221/221 [==============================] - 0s 1ms/step - loss: 0.9076 - accuracy: 0.6505 - val_loss: 1.5972 - val_accuracy: 0.4936\n",
      "Epoch 64/200\n",
      "221/221 [==============================] - 0s 1ms/step - loss: 0.9069 - accuracy: 0.6486 - val_loss: 1.5176 - val_accuracy: 0.5407\n",
      "Epoch 65/200\n",
      "221/221 [==============================] - 0s 1ms/step - loss: 0.8864 - accuracy: 0.6507 - val_loss: 1.5665 - val_accuracy: 0.5242\n",
      "Epoch 66/200\n",
      "221/221 [==============================] - 0s 1ms/step - loss: 0.8851 - accuracy: 0.6582 - val_loss: 1.5406 - val_accuracy: 0.5242\n",
      "Epoch 67/200\n",
      "221/221 [==============================] - 0s 1ms/step - loss: 0.8983 - accuracy: 0.6582 - val_loss: 1.5744 - val_accuracy: 0.5178\n",
      "Epoch 68/200\n",
      "221/221 [==============================] - 0s 1ms/step - loss: 0.8682 - accuracy: 0.6635 - val_loss: 1.4640 - val_accuracy: 0.5458\n",
      "Epoch 69/200\n",
      "221/221 [==============================] - 0s 1ms/step - loss: 0.8522 - accuracy: 0.6678 - val_loss: 1.4915 - val_accuracy: 0.5369\n",
      "Epoch 70/200\n",
      "221/221 [==============================] - 0s 1ms/step - loss: 0.8597 - accuracy: 0.6613 - val_loss: 1.5857 - val_accuracy: 0.5331\n",
      "Epoch 71/200\n",
      "221/221 [==============================] - 0s 1ms/step - loss: 0.8584 - accuracy: 0.6650 - val_loss: 1.5960 - val_accuracy: 0.5102\n",
      "Epoch 72/200\n",
      "221/221 [==============================] - 0s 1ms/step - loss: 0.8441 - accuracy: 0.6691 - val_loss: 1.5963 - val_accuracy: 0.5293\n",
      "Epoch 73/200\n",
      "221/221 [==============================] - 0s 1ms/step - loss: 0.8276 - accuracy: 0.6751 - val_loss: 1.6001 - val_accuracy: 0.5509\n",
      "Epoch 74/200\n",
      "221/221 [==============================] - 0s 1ms/step - loss: 0.8327 - accuracy: 0.6700 - val_loss: 1.6212 - val_accuracy: 0.5254\n",
      "Epoch 75/200\n",
      "221/221 [==============================] - 0s 1ms/step - loss: 0.8379 - accuracy: 0.6717 - val_loss: 1.5735 - val_accuracy: 0.5458\n",
      "Epoch 76/200\n",
      "221/221 [==============================] - 0s 1ms/step - loss: 0.7933 - accuracy: 0.6898 - val_loss: 1.5969 - val_accuracy: 0.5344\n",
      "Epoch 77/200\n",
      "221/221 [==============================] - 0s 1ms/step - loss: 0.8357 - accuracy: 0.6797 - val_loss: 1.5875 - val_accuracy: 0.5229\n",
      "Epoch 78/200\n",
      "221/221 [==============================] - 0s 1ms/step - loss: 0.7978 - accuracy: 0.6859 - val_loss: 1.6057 - val_accuracy: 0.5496\n",
      "Epoch 79/200\n",
      "221/221 [==============================] - 0s 1ms/step - loss: 0.7955 - accuracy: 0.6874 - val_loss: 1.7096 - val_accuracy: 0.5293\n",
      "Epoch 80/200\n",
      "221/221 [==============================] - 0s 1ms/step - loss: 0.8045 - accuracy: 0.6834 - val_loss: 1.6822 - val_accuracy: 0.5229\n",
      "Epoch 81/200\n",
      "221/221 [==============================] - 0s 1ms/step - loss: 0.7791 - accuracy: 0.6898 - val_loss: 1.6158 - val_accuracy: 0.5394\n",
      "Epoch 82/200\n",
      "221/221 [==============================] - 0s 1ms/step - loss: 0.7845 - accuracy: 0.6954 - val_loss: 1.6943 - val_accuracy: 0.5191\n",
      "Epoch 83/200\n",
      "221/221 [==============================] - 0s 1ms/step - loss: 0.7911 - accuracy: 0.6847 - val_loss: 1.6576 - val_accuracy: 0.5344\n",
      "Epoch 84/200\n",
      "221/221 [==============================] - 0s 1ms/step - loss: 0.7681 - accuracy: 0.6998 - val_loss: 1.7036 - val_accuracy: 0.5165\n",
      "Epoch 85/200\n",
      "221/221 [==============================] - 0s 1ms/step - loss: 0.7519 - accuracy: 0.7036 - val_loss: 1.6467 - val_accuracy: 0.5394\n",
      "Epoch 86/200\n",
      "221/221 [==============================] - 0s 1ms/step - loss: 0.7413 - accuracy: 0.7103 - val_loss: 1.6514 - val_accuracy: 0.5356\n",
      "Epoch 87/200\n",
      "221/221 [==============================] - 0s 1ms/step - loss: 0.7546 - accuracy: 0.7015 - val_loss: 1.7670 - val_accuracy: 0.5013\n",
      "Epoch 88/200\n",
      "221/221 [==============================] - 0s 1ms/step - loss: 0.7379 - accuracy: 0.7063 - val_loss: 1.7697 - val_accuracy: 0.5344\n",
      "Epoch 89/200\n",
      "221/221 [==============================] - 0s 1ms/step - loss: 0.7262 - accuracy: 0.7124 - val_loss: 1.7732 - val_accuracy: 0.5178\n",
      "Epoch 90/200\n",
      "221/221 [==============================] - 0s 1ms/step - loss: 0.7420 - accuracy: 0.7080 - val_loss: 1.7809 - val_accuracy: 0.5229\n",
      "Epoch 91/200\n",
      "221/221 [==============================] - 0s 1ms/step - loss: 0.7331 - accuracy: 0.7113 - val_loss: 1.7914 - val_accuracy: 0.5344\n",
      "Epoch 92/200\n",
      "221/221 [==============================] - 0s 1ms/step - loss: 0.7269 - accuracy: 0.7163 - val_loss: 1.7752 - val_accuracy: 0.5356\n",
      "Epoch 93/200\n",
      "221/221 [==============================] - 0s 1ms/step - loss: 0.7246 - accuracy: 0.7077 - val_loss: 1.8044 - val_accuracy: 0.5471\n",
      "Epoch 94/200\n",
      "221/221 [==============================] - 0s 1ms/step - loss: 0.7229 - accuracy: 0.7130 - val_loss: 1.7805 - val_accuracy: 0.5305\n",
      "Epoch 95/200\n",
      "221/221 [==============================] - 0s 1ms/step - loss: 0.7390 - accuracy: 0.7039 - val_loss: 1.8066 - val_accuracy: 0.5102\n",
      "Epoch 96/200\n",
      "221/221 [==============================] - 0s 1ms/step - loss: 0.6864 - accuracy: 0.7302 - val_loss: 1.8181 - val_accuracy: 0.5471\n",
      "Epoch 97/200\n",
      "221/221 [==============================] - 0s 1ms/step - loss: 0.6902 - accuracy: 0.7270 - val_loss: 1.8559 - val_accuracy: 0.5242\n",
      "Epoch 98/200\n",
      "221/221 [==============================] - 0s 1ms/step - loss: 0.6891 - accuracy: 0.7296 - val_loss: 1.8413 - val_accuracy: 0.5127\n",
      "Epoch 99/200\n",
      "221/221 [==============================] - 0s 1ms/step - loss: 0.6829 - accuracy: 0.7311 - val_loss: 1.8786 - val_accuracy: 0.5216\n",
      "Epoch 100/200\n",
      "221/221 [==============================] - 0s 1ms/step - loss: 0.6891 - accuracy: 0.7295 - val_loss: 1.8315 - val_accuracy: 0.5331\n",
      "Epoch 101/200\n",
      "221/221 [==============================] - 0s 1ms/step - loss: 0.6862 - accuracy: 0.7243 - val_loss: 1.8889 - val_accuracy: 0.5344\n",
      "Epoch 102/200\n",
      "221/221 [==============================] - 0s 1ms/step - loss: 0.6757 - accuracy: 0.7316 - val_loss: 1.8705 - val_accuracy: 0.5038\n",
      "Epoch 103/200\n",
      "221/221 [==============================] - 0s 1ms/step - loss: 0.6714 - accuracy: 0.7333 - val_loss: 1.8913 - val_accuracy: 0.5280\n",
      "Epoch 104/200\n",
      "221/221 [==============================] - 0s 1ms/step - loss: 0.6526 - accuracy: 0.7418 - val_loss: 1.9621 - val_accuracy: 0.5127\n",
      "Epoch 105/200\n",
      "221/221 [==============================] - 0s 1ms/step - loss: 0.6962 - accuracy: 0.7219 - val_loss: 1.8281 - val_accuracy: 0.5318\n",
      "Epoch 106/200\n",
      "221/221 [==============================] - 0s 1ms/step - loss: 0.6572 - accuracy: 0.7374 - val_loss: 1.9324 - val_accuracy: 0.5382\n",
      "Epoch 107/200\n",
      "221/221 [==============================] - 0s 1ms/step - loss: 0.6633 - accuracy: 0.7336 - val_loss: 1.9253 - val_accuracy: 0.5280\n",
      "Epoch 108/200\n",
      "221/221 [==============================] - 0s 1ms/step - loss: 0.6353 - accuracy: 0.7429 - val_loss: 1.9832 - val_accuracy: 0.5242\n",
      "Epoch 109/200\n",
      "221/221 [==============================] - 0s 1ms/step - loss: 0.6306 - accuracy: 0.7451 - val_loss: 1.9525 - val_accuracy: 0.5356\n",
      "Epoch 110/200\n",
      "221/221 [==============================] - 0s 1ms/step - loss: 0.6390 - accuracy: 0.7419 - val_loss: 1.9532 - val_accuracy: 0.5242\n",
      "Epoch 111/200\n",
      "221/221 [==============================] - 0s 1ms/step - loss: 0.6621 - accuracy: 0.7391 - val_loss: 1.9333 - val_accuracy: 0.5394\n",
      "Epoch 112/200\n",
      "221/221 [==============================] - 0s 1ms/step - loss: 0.6416 - accuracy: 0.7479 - val_loss: 2.0008 - val_accuracy: 0.5242\n",
      "Epoch 113/200\n",
      "221/221 [==============================] - 0s 1ms/step - loss: 0.6289 - accuracy: 0.7516 - val_loss: 1.9813 - val_accuracy: 0.5420\n",
      "Epoch 114/200\n",
      "221/221 [==============================] - 0s 1ms/step - loss: 0.6292 - accuracy: 0.7479 - val_loss: 1.9794 - val_accuracy: 0.5522\n"
     ]
    },
    {
     "name": "stdout",
     "output_type": "stream",
     "text": [
      "Epoch 115/200\n",
      "221/221 [==============================] - 0s 1ms/step - loss: 0.6363 - accuracy: 0.7525 - val_loss: 2.1105 - val_accuracy: 0.5102\n",
      "Epoch 116/200\n",
      "221/221 [==============================] - 0s 1ms/step - loss: 0.6162 - accuracy: 0.7537 - val_loss: 1.9634 - val_accuracy: 0.5165\n",
      "Epoch 117/200\n",
      "221/221 [==============================] - 0s 1ms/step - loss: 0.5977 - accuracy: 0.7622 - val_loss: 2.0839 - val_accuracy: 0.5280\n",
      "Epoch 118/200\n",
      "221/221 [==============================] - 0s 1ms/step - loss: 0.6236 - accuracy: 0.7451 - val_loss: 2.0956 - val_accuracy: 0.5394\n",
      "Epoch 119/200\n",
      "221/221 [==============================] - 0s 1ms/step - loss: 0.6184 - accuracy: 0.7606 - val_loss: 2.0253 - val_accuracy: 0.5204\n",
      "Epoch 120/200\n",
      "221/221 [==============================] - 0s 1ms/step - loss: 0.6063 - accuracy: 0.7574 - val_loss: 2.1149 - val_accuracy: 0.5204\n",
      "Epoch 121/200\n",
      "221/221 [==============================] - 0s 1ms/step - loss: 0.5845 - accuracy: 0.7654 - val_loss: 2.0248 - val_accuracy: 0.5369\n",
      "Epoch 122/200\n",
      "221/221 [==============================] - 0s 1ms/step - loss: 0.6291 - accuracy: 0.7441 - val_loss: 1.9938 - val_accuracy: 0.5115\n",
      "Epoch 123/200\n",
      "221/221 [==============================] - 0s 1ms/step - loss: 0.5959 - accuracy: 0.7623 - val_loss: 2.0706 - val_accuracy: 0.5102\n",
      "Epoch 124/200\n",
      "221/221 [==============================] - 0s 1ms/step - loss: 0.6057 - accuracy: 0.7588 - val_loss: 2.0699 - val_accuracy: 0.5229\n",
      "Epoch 125/200\n",
      "221/221 [==============================] - 0s 1ms/step - loss: 0.5991 - accuracy: 0.7629 - val_loss: 2.0537 - val_accuracy: 0.5204\n",
      "Epoch 126/200\n",
      "221/221 [==============================] - 0s 1ms/step - loss: 0.5884 - accuracy: 0.7656 - val_loss: 2.0716 - val_accuracy: 0.5178\n",
      "Epoch 127/200\n",
      "221/221 [==============================] - 0s 1ms/step - loss: 0.6032 - accuracy: 0.7605 - val_loss: 2.0761 - val_accuracy: 0.5153\n",
      "Epoch 128/200\n",
      "221/221 [==============================] - 0s 1ms/step - loss: 0.6003 - accuracy: 0.7596 - val_loss: 2.0754 - val_accuracy: 0.5242\n",
      "Epoch 129/200\n",
      "221/221 [==============================] - 0s 1ms/step - loss: 0.5901 - accuracy: 0.7668 - val_loss: 2.1167 - val_accuracy: 0.5254\n",
      "Epoch 130/200\n",
      "221/221 [==============================] - 0s 1ms/step - loss: 0.5752 - accuracy: 0.7728 - val_loss: 2.1118 - val_accuracy: 0.5509\n",
      "Epoch 131/200\n",
      "221/221 [==============================] - 0s 1ms/step - loss: 0.5623 - accuracy: 0.7756 - val_loss: 2.1473 - val_accuracy: 0.5204\n",
      "Epoch 132/200\n",
      "221/221 [==============================] - 0s 1ms/step - loss: 0.5633 - accuracy: 0.7759 - val_loss: 2.0949 - val_accuracy: 0.5318\n",
      "Epoch 133/200\n",
      "221/221 [==============================] - 0s 1ms/step - loss: 0.5869 - accuracy: 0.7602 - val_loss: 2.1257 - val_accuracy: 0.5433\n",
      "Epoch 134/200\n",
      "221/221 [==============================] - 0s 896us/step - loss: 0.5771 - accuracy: 0.7684 - val_loss: 2.1172 - val_accuracy: 0.5280\n",
      "Epoch 135/200\n",
      "221/221 [==============================] - 0s 1ms/step - loss: 0.5747 - accuracy: 0.7639 - val_loss: 2.1811 - val_accuracy: 0.5293\n",
      "Epoch 136/200\n",
      "221/221 [==============================] - 0s 1ms/step - loss: 0.5667 - accuracy: 0.7704 - val_loss: 2.2473 - val_accuracy: 0.5216\n",
      "Epoch 137/200\n",
      "221/221 [==============================] - 0s 1ms/step - loss: 0.5679 - accuracy: 0.7729 - val_loss: 2.2745 - val_accuracy: 0.5394\n",
      "Epoch 138/200\n",
      "221/221 [==============================] - 0s 1ms/step - loss: 0.5829 - accuracy: 0.7648 - val_loss: 2.2639 - val_accuracy: 0.5204\n",
      "Epoch 139/200\n",
      "221/221 [==============================] - 0s 1ms/step - loss: 0.5557 - accuracy: 0.7781 - val_loss: 2.1415 - val_accuracy: 0.5420\n",
      "Epoch 140/200\n",
      "221/221 [==============================] - 0s 1ms/step - loss: 0.5233 - accuracy: 0.7859 - val_loss: 2.1773 - val_accuracy: 0.5242\n",
      "Epoch 141/200\n",
      "221/221 [==============================] - 0s 1ms/step - loss: 0.5276 - accuracy: 0.7872 - val_loss: 2.2597 - val_accuracy: 0.5064\n",
      "Epoch 142/200\n",
      "221/221 [==============================] - 0s 1ms/step - loss: 0.5611 - accuracy: 0.7709 - val_loss: 2.2845 - val_accuracy: 0.5305\n",
      "Epoch 143/200\n",
      "221/221 [==============================] - 0s 1ms/step - loss: 0.5563 - accuracy: 0.7793 - val_loss: 2.1938 - val_accuracy: 0.5331\n",
      "Epoch 144/200\n",
      "221/221 [==============================] - 0s 1ms/step - loss: 0.5369 - accuracy: 0.7852 - val_loss: 2.2569 - val_accuracy: 0.5267\n",
      "Epoch 145/200\n",
      "221/221 [==============================] - 0s 1ms/step - loss: 0.5582 - accuracy: 0.7787 - val_loss: 2.2580 - val_accuracy: 0.5458\n",
      "Epoch 146/200\n",
      "221/221 [==============================] - 0s 1ms/step - loss: 0.5438 - accuracy: 0.7796 - val_loss: 2.2907 - val_accuracy: 0.5305\n",
      "Epoch 147/200\n",
      "221/221 [==============================] - 0s 1ms/step - loss: 0.5442 - accuracy: 0.7777 - val_loss: 2.2448 - val_accuracy: 0.5356\n",
      "Epoch 148/200\n",
      "221/221 [==============================] - 0s 1ms/step - loss: 0.5488 - accuracy: 0.7788 - val_loss: 2.3341 - val_accuracy: 0.5280\n",
      "Epoch 149/200\n",
      "221/221 [==============================] - 0s 1ms/step - loss: 0.5076 - accuracy: 0.7924 - val_loss: 2.3399 - val_accuracy: 0.5127\n",
      "Epoch 150/200\n",
      "221/221 [==============================] - 0s 1ms/step - loss: 0.5292 - accuracy: 0.7856 - val_loss: 2.3328 - val_accuracy: 0.5267\n",
      "Epoch 151/200\n",
      "221/221 [==============================] - 0s 1ms/step - loss: 0.5279 - accuracy: 0.7865 - val_loss: 2.3019 - val_accuracy: 0.5305\n",
      "Epoch 152/200\n",
      "221/221 [==============================] - 0s 1ms/step - loss: 0.4999 - accuracy: 0.7977 - val_loss: 2.4284 - val_accuracy: 0.5382\n",
      "Epoch 153/200\n",
      "221/221 [==============================] - 0s 1ms/step - loss: 0.5351 - accuracy: 0.7846 - val_loss: 2.3810 - val_accuracy: 0.5165\n",
      "Epoch 154/200\n",
      "221/221 [==============================] - 0s 1ms/step - loss: 0.5040 - accuracy: 0.7938 - val_loss: 2.4462 - val_accuracy: 0.5051\n",
      "Epoch 155/200\n",
      "221/221 [==============================] - 0s 1ms/step - loss: 0.5099 - accuracy: 0.7950 - val_loss: 2.4432 - val_accuracy: 0.5267\n",
      "Epoch 156/200\n",
      "221/221 [==============================] - 0s 1ms/step - loss: 0.5199 - accuracy: 0.7920 - val_loss: 2.4515 - val_accuracy: 0.5178\n",
      "Epoch 157/200\n",
      "221/221 [==============================] - 0s 1ms/step - loss: 0.5029 - accuracy: 0.7982 - val_loss: 2.4574 - val_accuracy: 0.5254\n",
      "Epoch 158/200\n",
      "221/221 [==============================] - 0s 1ms/step - loss: 0.5268 - accuracy: 0.7851 - val_loss: 2.3720 - val_accuracy: 0.5204\n",
      "Epoch 159/200\n",
      "221/221 [==============================] - 0s 1ms/step - loss: 0.5046 - accuracy: 0.7931 - val_loss: 2.4678 - val_accuracy: 0.5076\n",
      "Epoch 160/200\n",
      "221/221 [==============================] - 0s 1ms/step - loss: 0.5559 - accuracy: 0.7790 - val_loss: 2.3741 - val_accuracy: 0.5165\n",
      "Epoch 161/200\n",
      "221/221 [==============================] - 0s 1ms/step - loss: 0.4786 - accuracy: 0.8078 - val_loss: 2.4963 - val_accuracy: 0.5267\n",
      "Epoch 162/200\n",
      "221/221 [==============================] - 0s 1ms/step - loss: 0.4914 - accuracy: 0.8009 - val_loss: 2.5292 - val_accuracy: 0.5267\n",
      "Epoch 163/200\n",
      "221/221 [==============================] - 0s 1ms/step - loss: 0.4855 - accuracy: 0.8070 - val_loss: 2.4740 - val_accuracy: 0.5216\n",
      "Epoch 164/200\n",
      "221/221 [==============================] - 0s 1ms/step - loss: 0.5160 - accuracy: 0.7967 - val_loss: 2.4728 - val_accuracy: 0.5331\n",
      "Epoch 165/200\n",
      "221/221 [==============================] - 0s 1ms/step - loss: 0.5101 - accuracy: 0.7972 - val_loss: 2.5870 - val_accuracy: 0.5267\n",
      "Epoch 166/200\n",
      "221/221 [==============================] - 0s 1ms/step - loss: 0.5274 - accuracy: 0.7887 - val_loss: 2.4558 - val_accuracy: 0.5115\n",
      "Epoch 167/200\n",
      "221/221 [==============================] - 0s 1ms/step - loss: 0.4647 - accuracy: 0.8142 - val_loss: 2.4210 - val_accuracy: 0.5394\n",
      "Epoch 168/200\n",
      "221/221 [==============================] - 0s 1ms/step - loss: 0.5021 - accuracy: 0.7948 - val_loss: 2.4715 - val_accuracy: 0.5115\n",
      "Epoch 169/200\n",
      "221/221 [==============================] - 0s 1ms/step - loss: 0.5021 - accuracy: 0.7975 - val_loss: 2.5768 - val_accuracy: 0.5178\n",
      "Epoch 170/200\n",
      "221/221 [==============================] - 0s 1ms/step - loss: 0.4653 - accuracy: 0.8139 - val_loss: 2.5632 - val_accuracy: 0.5344\n",
      "Epoch 171/200\n",
      "221/221 [==============================] - 0s 1ms/step - loss: 0.4898 - accuracy: 0.8051 - val_loss: 2.5096 - val_accuracy: 0.5216\n",
      "Epoch 172/200\n",
      "221/221 [==============================] - 0s 1ms/step - loss: 0.4919 - accuracy: 0.7988 - val_loss: 2.4545 - val_accuracy: 0.5305\n",
      "Epoch 173/200\n",
      "221/221 [==============================] - 0s 1ms/step - loss: 0.4654 - accuracy: 0.8142 - val_loss: 2.4756 - val_accuracy: 0.5471\n",
      "Epoch 174/200\n",
      "221/221 [==============================] - 0s 1ms/step - loss: 0.4949 - accuracy: 0.8022 - val_loss: 2.5286 - val_accuracy: 0.5115\n",
      "Epoch 175/200\n",
      "221/221 [==============================] - 0s 1ms/step - loss: 0.4952 - accuracy: 0.7940 - val_loss: 2.4751 - val_accuracy: 0.5420\n",
      "Epoch 176/200\n",
      "221/221 [==============================] - 0s 1ms/step - loss: 0.4858 - accuracy: 0.8044 - val_loss: 2.4163 - val_accuracy: 0.5267\n",
      "Epoch 177/200\n",
      "221/221 [==============================] - 0s 1ms/step - loss: 0.4455 - accuracy: 0.8193 - val_loss: 2.5600 - val_accuracy: 0.5153\n",
      "Epoch 178/200\n",
      "221/221 [==============================] - 0s 1ms/step - loss: 0.4833 - accuracy: 0.8044 - val_loss: 2.4394 - val_accuracy: 0.5216\n",
      "Epoch 179/200\n",
      "221/221 [==============================] - 0s 1ms/step - loss: 0.4460 - accuracy: 0.8158 - val_loss: 2.6129 - val_accuracy: 0.5369\n",
      "Epoch 180/200\n",
      "221/221 [==============================] - 0s 1ms/step - loss: 0.4631 - accuracy: 0.8173 - val_loss: 2.6445 - val_accuracy: 0.5229\n",
      "Epoch 181/200\n",
      "221/221 [==============================] - 0s 1ms/step - loss: 0.4769 - accuracy: 0.8033 - val_loss: 2.6409 - val_accuracy: 0.5051\n",
      "Epoch 182/200\n",
      "221/221 [==============================] - 0s 1ms/step - loss: 0.4705 - accuracy: 0.8076 - val_loss: 2.5886 - val_accuracy: 0.5254\n",
      "Epoch 183/200\n",
      "221/221 [==============================] - 0s 1ms/step - loss: 0.4661 - accuracy: 0.8092 - val_loss: 2.6671 - val_accuracy: 0.5191\n",
      "Epoch 184/200\n",
      "221/221 [==============================] - 0s 1ms/step - loss: 0.4570 - accuracy: 0.8098 - val_loss: 2.6711 - val_accuracy: 0.5445\n",
      "Epoch 185/200\n",
      "221/221 [==============================] - 0s 1ms/step - loss: 0.4615 - accuracy: 0.8150 - val_loss: 2.5094 - val_accuracy: 0.5407\n",
      "Epoch 186/200\n",
      "221/221 [==============================] - 0s 1ms/step - loss: 0.4576 - accuracy: 0.8135 - val_loss: 2.6561 - val_accuracy: 0.5191\n",
      "Epoch 187/200\n",
      "221/221 [==============================] - 0s 1ms/step - loss: 0.5025 - accuracy: 0.8008 - val_loss: 2.6522 - val_accuracy: 0.5178\n",
      "Epoch 188/200\n",
      "221/221 [==============================] - 0s 1ms/step - loss: 0.4640 - accuracy: 0.8118 - val_loss: 2.5705 - val_accuracy: 0.5522\n",
      "Epoch 189/200\n",
      "221/221 [==============================] - 0s 1ms/step - loss: 0.4353 - accuracy: 0.8237 - val_loss: 2.6773 - val_accuracy: 0.5254\n",
      "Epoch 190/200\n",
      "221/221 [==============================] - 0s 1ms/step - loss: 0.4387 - accuracy: 0.8231 - val_loss: 2.6833 - val_accuracy: 0.5356\n",
      "Epoch 191/200\n",
      "221/221 [==============================] - 0s 1ms/step - loss: 0.4600 - accuracy: 0.8167 - val_loss: 2.6967 - val_accuracy: 0.5331\n",
      "Epoch 192/200\n",
      "221/221 [==============================] - 0s 1ms/step - loss: 0.4623 - accuracy: 0.8156 - val_loss: 2.6670 - val_accuracy: 0.5280\n",
      "Epoch 193/200\n",
      "221/221 [==============================] - 0s 1ms/step - loss: 0.4647 - accuracy: 0.8132 - val_loss: 2.6863 - val_accuracy: 0.5064\n",
      "Epoch 194/200\n",
      "221/221 [==============================] - 0s 1ms/step - loss: 0.4357 - accuracy: 0.8224 - val_loss: 2.7591 - val_accuracy: 0.5204\n",
      "Epoch 195/200\n",
      "221/221 [==============================] - 0s 1ms/step - loss: 0.4497 - accuracy: 0.8224 - val_loss: 2.6404 - val_accuracy: 0.5445\n",
      "Epoch 196/200\n",
      "221/221 [==============================] - 0s 1ms/step - loss: 0.4501 - accuracy: 0.8257 - val_loss: 2.8674 - val_accuracy: 0.5165\n",
      "Epoch 197/200\n",
      "221/221 [==============================] - 0s 1ms/step - loss: 0.4623 - accuracy: 0.8187 - val_loss: 2.7267 - val_accuracy: 0.5369\n",
      "Epoch 198/200\n",
      "221/221 [==============================] - 0s 1ms/step - loss: 0.4696 - accuracy: 0.8131 - val_loss: 2.5825 - val_accuracy: 0.5458\n",
      "Epoch 199/200\n",
      "221/221 [==============================] - 0s 1ms/step - loss: 0.4647 - accuracy: 0.8172 - val_loss: 2.8567 - val_accuracy: 0.4975\n",
      "Epoch 200/200\n",
      "221/221 [==============================] - 0s 1ms/step - loss: 0.4567 - accuracy: 0.8184 - val_loss: 2.6489 - val_accuracy: 0.5382\n"
     ]
    }
   ],
   "source": [
    "history_pca=model_pca.fit(X_train, y_train, epochs=200, validation_data=(X_val, y_val))"
   ]
  },
  {
   "cell_type": "code",
   "execution_count": 23,
   "id": "ff1fd86b",
   "metadata": {},
   "outputs": [
    {
     "data": {
      "image/png": "[encoded data removed]",
      "text/plain": [
       "<Figure size 432x288 with 1 Axes>"
      ]
     },
     "metadata": {
      "needs_background": "light"
     },
     "output_type": "display_data"
    },
    {
     "data": {
      "image/png": "[encoded data removed]",
      "text/plain": [
       "<Figure size 432x288 with 1 Axes>"
      ]
     },
     "metadata": {
      "needs_background": "light"
     },
     "output_type": "display_data"
    }
   ],
   "source": [
    "import matplotlib.pyplot as plt\n",
    "\n",
    "# Plot the convergence graph for loss\n",
    "plt.plot(history_pca.history['loss'])\n",
    "plt.plot(history_pca.history['val_loss'])\n",
    "plt.title('Model Loss')\n",
    "plt.ylabel('Loss')\n",
    "plt.xlabel('Epoch')\n",
    "plt.legend(['Train', 'Validation'], loc='upper right')\n",
    "plt.show()\n",
    "\n",
    "# Plot the convergence graph for accuracy\n",
    "plt.plot(history_pca.history['accuracy'])\n",
    "plt.plot(history_pca.history['val_accuracy'])\n",
    "plt.title('Model Accuracy')\n",
    "plt.ylabel('Accuracy')\n",
    "plt.xlabel('Epoch')\n",
    "plt.legend(['Train', 'Validation'], loc='lower right')\n",
    "plt.show()"
   ]
  },
  {
   "cell_type": "code",
   "execution_count": 24,
   "id": "8266627b",
   "metadata": {},
   "outputs": [
    {
     "name": "stdout",
     "output_type": "stream",
     "text": [
      "[[79  2  3  1  2  3  1  3  0  6]\n",
      " [ 4 20  2  4  3  1  1  3  0  5]\n",
      " [ 3  7 47 14  1  2  4  2  9 11]\n",
      " [ 4  1 17 44  3  5  0  3 14  9]\n",
      " [ 3  2  2  4 62  2  2 12  3  8]\n",
      " [ 3  2  3  2  1 82  0  0  1  6]\n",
      " [ 0  0  2  7  1  1 20  1  4  2]\n",
      " [ 5  3  2  0  6  5  2 72  1  4]\n",
      " [ 1  4  4 13  0  2  1  4 56  8]\n",
      " [ 7  9 12  8  6  4  2  9 11 32]]\n"
     ]
    }
   ],
   "source": [
    "from sklearn.metrics import classification_report,confusion_matrix\n",
    "pred = model_pca.predict(X_test)\n",
    "# one hot encoded multiclass labels so converting to argmax\n",
    "arg_pred = np.argmax(pred, axis=1)\n",
    "arg_true = np.argmax(y_test, axis=1)\n",
    "print(confusion_matrix(arg_true, arg_pred))"
   ]
  },
  {
   "cell_type": "code",
   "execution_count": 25,
   "id": "5ed160f3",
   "metadata": {
    "scrolled": true
   },
   "outputs": [
    {
     "name": "stdout",
     "output_type": "stream",
     "text": [
      "              precision    recall  f1-score   support\n",
      "\n",
      "           0       0.72      0.79      0.76       100\n",
      "           1       0.40      0.47      0.43        43\n",
      "           2       0.50      0.47      0.48       100\n",
      "           3       0.45      0.44      0.45       100\n",
      "           4       0.73      0.62      0.67       100\n",
      "           5       0.77      0.82      0.79       100\n",
      "           6       0.61      0.53      0.56        38\n",
      "           7       0.66      0.72      0.69       100\n",
      "           8       0.57      0.60      0.58        93\n",
      "           9       0.35      0.32      0.34       100\n",
      "\n",
      "    accuracy                           0.59       874\n",
      "   macro avg       0.58      0.58      0.58       874\n",
      "weighted avg       0.59      0.59      0.59       874\n",
      "\n"
     ]
    }
   ],
   "source": [
    "print(classification_report(arg_true, arg_pred))"
   ]
  }
 ],
 "metadata": {
  "kernelspec": {
   "display_name": "Python 3",
   "language": "python",
   "name": "python3"
  },
  "language_info": {
   "codemirror_mode": {
    "name": "ipython",
    "version": 3
   },
   "file_extension": ".py",
   "mimetype": "text/x-python",
   "name": "python",
   "nbconvert_exporter": "python",
   "pygments_lexer": "ipython3",
   "version": "3.8.11"
  }
 },
 "nbformat": 4,
 "nbformat_minor": 5
}
